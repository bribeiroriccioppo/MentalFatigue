{
 "cells": [
  {
   "cell_type": "markdown",
   "id": "bd73db24",
   "metadata": {},
   "source": [
    "## Mental Fatigue Questionnaire Score"
   ]
  },
  {
   "cell_type": "code",
   "execution_count": 1,
   "id": "89d7944e",
   "metadata": {},
   "outputs": [],
   "source": [
    "import numpy as np\n",
    "import pandas as pd\n",
    "import mental_fatigue_questionnaire_results as mf\n",
    "from statsmodels.stats.anova import AnovaRM\n",
    "from scipy import stats\n",
    "import matplotlib.pyplot as plt"
   ]
  },
  {
   "cell_type": "markdown",
   "id": "90bc186c",
   "metadata": {},
   "source": [
    "### Load data from questionnaire"
   ]
  },
  {
   "cell_type": "code",
   "execution_count": 2,
   "id": "f647c4b9",
   "metadata": {
    "scrolled": false
   },
   "outputs": [
    {
     "name": "stdout",
     "output_type": "stream",
     "text": [
      "Participant: S1\n",
      "   Unnamed: 0  question_1  question_2  question_3  question_4  question_5  \\\n",
      "0           0         1.0         2.0         2.0         0.0         0.0   \n",
      "1           1         1.0         2.0         2.0         0.0         0.0   \n",
      "2           2         3.0         3.0         4.0         0.0         0.0   \n",
      "3           3         4.0         4.0         4.0         0.0         0.0   \n",
      "\n",
      "   question_6  question_7  question_113  question_214  question_315  \\\n",
      "0         4.0         6.0           6.0           6.0           0.0   \n",
      "1         4.0         5.0           6.0           5.0           0.0   \n",
      "2         3.0         4.0           3.0           3.0           0.0   \n",
      "3         3.0         3.0           3.0           3.0           0.0   \n",
      "\n",
      "   question_416  question_517  question_518  question_519  \n",
      "0           0.0           0.0           0.0           1.0  \n",
      "1           0.0           1.0           0.0           1.0  \n",
      "2           1.0           2.0           0.0           2.0  \n",
      "3           3.0           3.0           0.0           2.0  \n",
      "_________________________________________________________________________________________\n",
      "Participant: S2\n",
      "   Unnamed: 0  question_1  question_2  question_3  question_4  question_5  \\\n",
      "0           0         2.0         2.0         2.0         0.0         4.0   \n",
      "1           1         5.0         5.0         1.0         0.0         5.0   \n",
      "2           2         5.0         5.0         1.0         1.0         5.0   \n",
      "3           3         5.0         6.0         0.0         1.0         5.0   \n",
      "\n",
      "   question_6  question_7  question_113  question_214  question_315  \\\n",
      "0         4.0         4.0           4.0           6.0           1.0   \n",
      "1         1.0         2.0           1.0           2.0           0.0   \n",
      "2         1.0         1.0           1.0           0.0           0.0   \n",
      "3         0.0         1.0           0.0           0.0           1.0   \n",
      "\n",
      "   question_416  question_517  question_518  question_519  \n",
      "0           0.0           0.0           0.0           0.0  \n",
      "1           4.0           4.0           0.0           0.0  \n",
      "2           4.0           5.0           0.0           0.0  \n",
      "3           4.0           5.0           0.0           0.0  \n",
      "_________________________________________________________________________________________\n",
      "Participant: S3\n",
      "   Unnamed: 0  question_1  question_2  question_3  question_4  question_5  \\\n",
      "0           0         1.0         1.0         0.0         0.0         0.0   \n",
      "1           1         1.0         6.0         5.0         1.0         0.0   \n",
      "2           2         2.0         6.0         1.0         2.0         0.0   \n",
      "3           3         5.0         6.0         2.0         2.0         0.0   \n",
      "\n",
      "   question_6  question_7  question_113  question_214  question_315  \\\n",
      "0         4.0         5.0           5.0           5.0           0.0   \n",
      "1         2.0         5.0           3.0           0.0           2.0   \n",
      "2         0.0         6.0           2.0           0.0           3.0   \n",
      "3         1.0         5.0           2.0           0.0           2.0   \n",
      "\n",
      "   question_416  question_517  question_518  question_519  \n",
      "0           0.0           0.0           0.0           0.0  \n",
      "1           1.0           4.0           1.0           2.0  \n",
      "2           3.0           6.0           2.0           3.0  \n",
      "3           0.0           6.0           3.0           2.0  \n",
      "_________________________________________________________________________________________\n",
      "Participant: S4\n",
      "   Unnamed: 0  question_1  question_2  question_3  question_4  question_5  \\\n",
      "0           0         4.0         3.0         4.0         4.0         4.0   \n",
      "1           1         4.0         3.0         3.0         3.0         3.0   \n",
      "2           2         5.0         3.0         2.0         3.0         2.0   \n",
      "3           3         3.0         3.0         2.0         4.0         1.0   \n",
      "\n",
      "   question_6  question_7  question_113  question_214  question_315  \\\n",
      "0         2.0         4.0           4.0           4.0           0.0   \n",
      "1         1.0         4.0           2.0           1.0           0.0   \n",
      "2         2.0         1.0           0.0           1.0           1.0   \n",
      "3         3.0         2.0           2.0           0.0           0.0   \n",
      "\n",
      "   question_416  question_517  question_518  question_519  \n",
      "0           4.0           3.0           1.0           0.0  \n",
      "1           3.0           2.0           2.0           0.0  \n",
      "2           2.0           5.0           3.0           0.0  \n",
      "3           3.0           4.0           4.0           0.0  \n",
      "_________________________________________________________________________________________\n"
     ]
    },
    {
     "ename": "FileNotFoundError",
     "evalue": "[Errno 2] No such file or directory: 'C:/Users/bribeiroriccioppo/Desktop/mental-fatigue-questionnaire/Data/Questionnaire_Results_S5.csv'",
     "output_type": "error",
     "traceback": [
      "\u001b[1;31m---------------------------------------------------------------------------\u001b[0m",
      "\u001b[1;31mFileNotFoundError\u001b[0m                         Traceback (most recent call last)",
      "\u001b[1;32mC:\\Users\\BRIBEI~1\\AppData\\Local\\Temp/ipykernel_11892/1812168034.py\u001b[0m in \u001b[0;36m<module>\u001b[1;34m\u001b[0m\n\u001b[0;32m     10\u001b[0m \u001b[1;33m\u001b[0m\u001b[0m\n\u001b[0;32m     11\u001b[0m \u001b[1;32mfor\u001b[0m \u001b[0mp\u001b[0m \u001b[1;32min\u001b[0m \u001b[0mparticipants\u001b[0m\u001b[1;33m:\u001b[0m\u001b[1;33m\u001b[0m\u001b[1;33m\u001b[0m\u001b[0m\n\u001b[1;32m---> 12\u001b[1;33m     \u001b[0mresults\u001b[0m \u001b[1;33m=\u001b[0m \u001b[1;33m(\u001b[0m\u001b[0mpd\u001b[0m\u001b[1;33m.\u001b[0m\u001b[0mread_csv\u001b[0m\u001b[1;33m(\u001b[0m\u001b[1;34mf'C:/Users/bribeiroriccioppo/Desktop/mental-fatigue-questionnaire/Data/Questionnaire_Results_{p}.csv'\u001b[0m\u001b[1;33m)\u001b[0m\u001b[1;33m)\u001b[0m\u001b[1;33m\u001b[0m\u001b[1;33m\u001b[0m\u001b[0m\n\u001b[0m\u001b[0;32m     13\u001b[0m     \u001b[0mq_results\u001b[0m\u001b[1;33m.\u001b[0m\u001b[0mappend\u001b[0m\u001b[1;33m(\u001b[0m\u001b[0mresults\u001b[0m\u001b[1;33m)\u001b[0m\u001b[1;33m\u001b[0m\u001b[1;33m\u001b[0m\u001b[0m\n\u001b[0;32m     14\u001b[0m     \u001b[0mprint\u001b[0m\u001b[1;33m(\u001b[0m\u001b[1;34m'Participant: '\u001b[0m\u001b[1;33m+\u001b[0m\u001b[0mstr\u001b[0m\u001b[1;33m(\u001b[0m\u001b[0mp\u001b[0m\u001b[1;33m)\u001b[0m\u001b[1;33m)\u001b[0m\u001b[1;33m\u001b[0m\u001b[1;33m\u001b[0m\u001b[0m\n",
      "\u001b[1;32m~\\Anaconda3\\lib\\site-packages\\pandas\\util\\_decorators.py\u001b[0m in \u001b[0;36mwrapper\u001b[1;34m(*args, **kwargs)\u001b[0m\n\u001b[0;32m    309\u001b[0m                     \u001b[0mstacklevel\u001b[0m\u001b[1;33m=\u001b[0m\u001b[0mstacklevel\u001b[0m\u001b[1;33m,\u001b[0m\u001b[1;33m\u001b[0m\u001b[1;33m\u001b[0m\u001b[0m\n\u001b[0;32m    310\u001b[0m                 )\n\u001b[1;32m--> 311\u001b[1;33m             \u001b[1;32mreturn\u001b[0m \u001b[0mfunc\u001b[0m\u001b[1;33m(\u001b[0m\u001b[1;33m*\u001b[0m\u001b[0margs\u001b[0m\u001b[1;33m,\u001b[0m \u001b[1;33m**\u001b[0m\u001b[0mkwargs\u001b[0m\u001b[1;33m)\u001b[0m\u001b[1;33m\u001b[0m\u001b[1;33m\u001b[0m\u001b[0m\n\u001b[0m\u001b[0;32m    312\u001b[0m \u001b[1;33m\u001b[0m\u001b[0m\n\u001b[0;32m    313\u001b[0m         \u001b[1;32mreturn\u001b[0m \u001b[0mwrapper\u001b[0m\u001b[1;33m\u001b[0m\u001b[1;33m\u001b[0m\u001b[0m\n",
      "\u001b[1;32m~\\Anaconda3\\lib\\site-packages\\pandas\\io\\parsers\\readers.py\u001b[0m in \u001b[0;36mread_csv\u001b[1;34m(filepath_or_buffer, sep, delimiter, header, names, index_col, usecols, squeeze, prefix, mangle_dupe_cols, dtype, engine, converters, true_values, false_values, skipinitialspace, skiprows, skipfooter, nrows, na_values, keep_default_na, na_filter, verbose, skip_blank_lines, parse_dates, infer_datetime_format, keep_date_col, date_parser, dayfirst, cache_dates, iterator, chunksize, compression, thousands, decimal, lineterminator, quotechar, quoting, doublequote, escapechar, comment, encoding, encoding_errors, dialect, error_bad_lines, warn_bad_lines, on_bad_lines, delim_whitespace, low_memory, memory_map, float_precision, storage_options)\u001b[0m\n\u001b[0;32m    584\u001b[0m     \u001b[0mkwds\u001b[0m\u001b[1;33m.\u001b[0m\u001b[0mupdate\u001b[0m\u001b[1;33m(\u001b[0m\u001b[0mkwds_defaults\u001b[0m\u001b[1;33m)\u001b[0m\u001b[1;33m\u001b[0m\u001b[1;33m\u001b[0m\u001b[0m\n\u001b[0;32m    585\u001b[0m \u001b[1;33m\u001b[0m\u001b[0m\n\u001b[1;32m--> 586\u001b[1;33m     \u001b[1;32mreturn\u001b[0m \u001b[0m_read\u001b[0m\u001b[1;33m(\u001b[0m\u001b[0mfilepath_or_buffer\u001b[0m\u001b[1;33m,\u001b[0m \u001b[0mkwds\u001b[0m\u001b[1;33m)\u001b[0m\u001b[1;33m\u001b[0m\u001b[1;33m\u001b[0m\u001b[0m\n\u001b[0m\u001b[0;32m    587\u001b[0m \u001b[1;33m\u001b[0m\u001b[0m\n\u001b[0;32m    588\u001b[0m \u001b[1;33m\u001b[0m\u001b[0m\n",
      "\u001b[1;32m~\\Anaconda3\\lib\\site-packages\\pandas\\io\\parsers\\readers.py\u001b[0m in \u001b[0;36m_read\u001b[1;34m(filepath_or_buffer, kwds)\u001b[0m\n\u001b[0;32m    480\u001b[0m \u001b[1;33m\u001b[0m\u001b[0m\n\u001b[0;32m    481\u001b[0m     \u001b[1;31m# Create the parser.\u001b[0m\u001b[1;33m\u001b[0m\u001b[1;33m\u001b[0m\u001b[0m\n\u001b[1;32m--> 482\u001b[1;33m     \u001b[0mparser\u001b[0m \u001b[1;33m=\u001b[0m \u001b[0mTextFileReader\u001b[0m\u001b[1;33m(\u001b[0m\u001b[0mfilepath_or_buffer\u001b[0m\u001b[1;33m,\u001b[0m \u001b[1;33m**\u001b[0m\u001b[0mkwds\u001b[0m\u001b[1;33m)\u001b[0m\u001b[1;33m\u001b[0m\u001b[1;33m\u001b[0m\u001b[0m\n\u001b[0m\u001b[0;32m    483\u001b[0m \u001b[1;33m\u001b[0m\u001b[0m\n\u001b[0;32m    484\u001b[0m     \u001b[1;32mif\u001b[0m \u001b[0mchunksize\u001b[0m \u001b[1;32mor\u001b[0m \u001b[0miterator\u001b[0m\u001b[1;33m:\u001b[0m\u001b[1;33m\u001b[0m\u001b[1;33m\u001b[0m\u001b[0m\n",
      "\u001b[1;32m~\\Anaconda3\\lib\\site-packages\\pandas\\io\\parsers\\readers.py\u001b[0m in \u001b[0;36m__init__\u001b[1;34m(self, f, engine, **kwds)\u001b[0m\n\u001b[0;32m    809\u001b[0m             \u001b[0mself\u001b[0m\u001b[1;33m.\u001b[0m\u001b[0moptions\u001b[0m\u001b[1;33m[\u001b[0m\u001b[1;34m\"has_index_names\"\u001b[0m\u001b[1;33m]\u001b[0m \u001b[1;33m=\u001b[0m \u001b[0mkwds\u001b[0m\u001b[1;33m[\u001b[0m\u001b[1;34m\"has_index_names\"\u001b[0m\u001b[1;33m]\u001b[0m\u001b[1;33m\u001b[0m\u001b[1;33m\u001b[0m\u001b[0m\n\u001b[0;32m    810\u001b[0m \u001b[1;33m\u001b[0m\u001b[0m\n\u001b[1;32m--> 811\u001b[1;33m         \u001b[0mself\u001b[0m\u001b[1;33m.\u001b[0m\u001b[0m_engine\u001b[0m \u001b[1;33m=\u001b[0m \u001b[0mself\u001b[0m\u001b[1;33m.\u001b[0m\u001b[0m_make_engine\u001b[0m\u001b[1;33m(\u001b[0m\u001b[0mself\u001b[0m\u001b[1;33m.\u001b[0m\u001b[0mengine\u001b[0m\u001b[1;33m)\u001b[0m\u001b[1;33m\u001b[0m\u001b[1;33m\u001b[0m\u001b[0m\n\u001b[0m\u001b[0;32m    812\u001b[0m \u001b[1;33m\u001b[0m\u001b[0m\n\u001b[0;32m    813\u001b[0m     \u001b[1;32mdef\u001b[0m \u001b[0mclose\u001b[0m\u001b[1;33m(\u001b[0m\u001b[0mself\u001b[0m\u001b[1;33m)\u001b[0m\u001b[1;33m:\u001b[0m\u001b[1;33m\u001b[0m\u001b[1;33m\u001b[0m\u001b[0m\n",
      "\u001b[1;32m~\\Anaconda3\\lib\\site-packages\\pandas\\io\\parsers\\readers.py\u001b[0m in \u001b[0;36m_make_engine\u001b[1;34m(self, engine)\u001b[0m\n\u001b[0;32m   1038\u001b[0m             )\n\u001b[0;32m   1039\u001b[0m         \u001b[1;31m# error: Too many arguments for \"ParserBase\"\u001b[0m\u001b[1;33m\u001b[0m\u001b[1;33m\u001b[0m\u001b[0m\n\u001b[1;32m-> 1040\u001b[1;33m         \u001b[1;32mreturn\u001b[0m \u001b[0mmapping\u001b[0m\u001b[1;33m[\u001b[0m\u001b[0mengine\u001b[0m\u001b[1;33m]\u001b[0m\u001b[1;33m(\u001b[0m\u001b[0mself\u001b[0m\u001b[1;33m.\u001b[0m\u001b[0mf\u001b[0m\u001b[1;33m,\u001b[0m \u001b[1;33m**\u001b[0m\u001b[0mself\u001b[0m\u001b[1;33m.\u001b[0m\u001b[0moptions\u001b[0m\u001b[1;33m)\u001b[0m  \u001b[1;31m# type: ignore[call-arg]\u001b[0m\u001b[1;33m\u001b[0m\u001b[1;33m\u001b[0m\u001b[0m\n\u001b[0m\u001b[0;32m   1041\u001b[0m \u001b[1;33m\u001b[0m\u001b[0m\n\u001b[0;32m   1042\u001b[0m     \u001b[1;32mdef\u001b[0m \u001b[0m_failover_to_python\u001b[0m\u001b[1;33m(\u001b[0m\u001b[0mself\u001b[0m\u001b[1;33m)\u001b[0m\u001b[1;33m:\u001b[0m\u001b[1;33m\u001b[0m\u001b[1;33m\u001b[0m\u001b[0m\n",
      "\u001b[1;32m~\\Anaconda3\\lib\\site-packages\\pandas\\io\\parsers\\c_parser_wrapper.py\u001b[0m in \u001b[0;36m__init__\u001b[1;34m(self, src, **kwds)\u001b[0m\n\u001b[0;32m     49\u001b[0m \u001b[1;33m\u001b[0m\u001b[0m\n\u001b[0;32m     50\u001b[0m         \u001b[1;31m# open handles\u001b[0m\u001b[1;33m\u001b[0m\u001b[1;33m\u001b[0m\u001b[0m\n\u001b[1;32m---> 51\u001b[1;33m         \u001b[0mself\u001b[0m\u001b[1;33m.\u001b[0m\u001b[0m_open_handles\u001b[0m\u001b[1;33m(\u001b[0m\u001b[0msrc\u001b[0m\u001b[1;33m,\u001b[0m \u001b[0mkwds\u001b[0m\u001b[1;33m)\u001b[0m\u001b[1;33m\u001b[0m\u001b[1;33m\u001b[0m\u001b[0m\n\u001b[0m\u001b[0;32m     52\u001b[0m         \u001b[1;32massert\u001b[0m \u001b[0mself\u001b[0m\u001b[1;33m.\u001b[0m\u001b[0mhandles\u001b[0m \u001b[1;32mis\u001b[0m \u001b[1;32mnot\u001b[0m \u001b[1;32mNone\u001b[0m\u001b[1;33m\u001b[0m\u001b[1;33m\u001b[0m\u001b[0m\n\u001b[0;32m     53\u001b[0m \u001b[1;33m\u001b[0m\u001b[0m\n",
      "\u001b[1;32m~\\Anaconda3\\lib\\site-packages\\pandas\\io\\parsers\\base_parser.py\u001b[0m in \u001b[0;36m_open_handles\u001b[1;34m(self, src, kwds)\u001b[0m\n\u001b[0;32m    220\u001b[0m         \u001b[0mLet\u001b[0m \u001b[0mthe\u001b[0m \u001b[0mreaders\u001b[0m \u001b[0mopen\u001b[0m \u001b[0mIOHandles\u001b[0m \u001b[0mafter\u001b[0m \u001b[0mthey\u001b[0m \u001b[0mare\u001b[0m \u001b[0mdone\u001b[0m \u001b[1;32mwith\u001b[0m \u001b[0mtheir\u001b[0m \u001b[0mpotential\u001b[0m \u001b[0mraises\u001b[0m\u001b[1;33m.\u001b[0m\u001b[1;33m\u001b[0m\u001b[1;33m\u001b[0m\u001b[0m\n\u001b[0;32m    221\u001b[0m         \"\"\"\n\u001b[1;32m--> 222\u001b[1;33m         self.handles = get_handle(\n\u001b[0m\u001b[0;32m    223\u001b[0m             \u001b[0msrc\u001b[0m\u001b[1;33m,\u001b[0m\u001b[1;33m\u001b[0m\u001b[1;33m\u001b[0m\u001b[0m\n\u001b[0;32m    224\u001b[0m             \u001b[1;34m\"r\"\u001b[0m\u001b[1;33m,\u001b[0m\u001b[1;33m\u001b[0m\u001b[1;33m\u001b[0m\u001b[0m\n",
      "\u001b[1;32m~\\Anaconda3\\lib\\site-packages\\pandas\\io\\common.py\u001b[0m in \u001b[0;36mget_handle\u001b[1;34m(path_or_buf, mode, encoding, compression, memory_map, is_text, errors, storage_options)\u001b[0m\n\u001b[0;32m    700\u001b[0m         \u001b[1;32mif\u001b[0m \u001b[0mioargs\u001b[0m\u001b[1;33m.\u001b[0m\u001b[0mencoding\u001b[0m \u001b[1;32mand\u001b[0m \u001b[1;34m\"b\"\u001b[0m \u001b[1;32mnot\u001b[0m \u001b[1;32min\u001b[0m \u001b[0mioargs\u001b[0m\u001b[1;33m.\u001b[0m\u001b[0mmode\u001b[0m\u001b[1;33m:\u001b[0m\u001b[1;33m\u001b[0m\u001b[1;33m\u001b[0m\u001b[0m\n\u001b[0;32m    701\u001b[0m             \u001b[1;31m# Encoding\u001b[0m\u001b[1;33m\u001b[0m\u001b[1;33m\u001b[0m\u001b[0m\n\u001b[1;32m--> 702\u001b[1;33m             handle = open(\n\u001b[0m\u001b[0;32m    703\u001b[0m                 \u001b[0mhandle\u001b[0m\u001b[1;33m,\u001b[0m\u001b[1;33m\u001b[0m\u001b[1;33m\u001b[0m\u001b[0m\n\u001b[0;32m    704\u001b[0m                 \u001b[0mioargs\u001b[0m\u001b[1;33m.\u001b[0m\u001b[0mmode\u001b[0m\u001b[1;33m,\u001b[0m\u001b[1;33m\u001b[0m\u001b[1;33m\u001b[0m\u001b[0m\n",
      "\u001b[1;31mFileNotFoundError\u001b[0m: [Errno 2] No such file or directory: 'C:/Users/bribeiroriccioppo/Desktop/mental-fatigue-questionnaire/Data/Questionnaire_Results_S5.csv'"
     ]
    }
   ],
   "source": [
    "# TESTS:\n",
    "# participants = ['S3','S4','S5','S6']\n",
    "# S3 --> increase of MF (0 --> 2 --> 4 --> 6)\n",
    "# S4 --> increase of MF\n",
    "# S5 --> decrease of MF\n",
    "# S6 --> non-significant increase from Q1 to Q3, then significant to Q4\n",
    "participants = ['S1','S2','S3','S4','S5']\n",
    "nb_participants = len(participants)\n",
    "q_results = []\n",
    "\n",
    "for p in participants:\n",
    "    results = (pd.read_csv(f'C:/Users/bribeiroriccioppo/Desktop/mental-fatigue-questionnaire/Data/Questionnaire_Results_{p}.csv'))\n",
    "    q_results.append(results)\n",
    "    print('Participant: '+str(p))\n",
    "    print(results)\n",
    "    print('_________________________________________________________________________________________')\n",
    "    "
   ]
  },
  {
   "cell_type": "markdown",
   "id": "e9a9ba55",
   "metadata": {},
   "source": [
    "### MF answers, Mean and Std calculations"
   ]
  },
  {
   "cell_type": "code",
   "execution_count": null,
   "id": "b1053ef9",
   "metadata": {
    "scrolled": false
   },
   "outputs": [],
   "source": [
    "# MF Answers + Means + Stds calculations\n",
    "\n",
    "mf_questions_tot = []\n",
    "mf_means_tot = []\n",
    "mf_stds_tot = []\n",
    "for p in range(nb_participants):\n",
    "    participant = q_results[p]\n",
    "    mf_questions, mf_means, mf_stds = mf.load_mf_questions(participant)\n",
    "    mf_questions_tot.append(mf_questions)\n",
    "    mf_means_tot.append(mf_means)\n",
    "    mf_stds_tot.append(mf_stds)\n",
    "    print('Participant: '+str(p))\n",
    "    print('Results: '+str(mf_questions))\n",
    "    print('Mean: '+str(mf_means))\n",
    "    print('Std: '+str(mf_stds))\n",
    "    print('_________________________________________________________________________________________')\n",
    "\n",
    "# Plotting means\n",
    "for i in range(nb_participants):\n",
    "    print('Participant: '+str(i))\n",
    "    x = mf_means_tot[i]\n",
    "    name = participants[i]\n",
    "    mf.plot_means(x,name)\n",
    "    \n",
    "    \n",
    "# Order: \n",
    "# question_1 = tired\n",
    "# question_2 = fatigued\n",
    "# question_3 = drowsy\n",
    "# question_6 = energetic\n",
    "# question_7 = active\n",
    "# question_8 = efficient\n",
    "# question_9 = motivated\n",
    "# question_416 = eyes_open\n",
    "# question_517 = concentrated\n",
    "# question_518 = blurred_vision\n",
    "# question_519 = headache"
   ]
  },
  {
   "cell_type": "markdown",
   "id": "74670b43",
   "metadata": {
    "scrolled": false
   },
   "source": [
    "### Visualitation of the answers"
   ]
  },
  {
   "cell_type": "code",
   "execution_count": null,
   "id": "63da370d",
   "metadata": {
    "scrolled": false
   },
   "outputs": [],
   "source": [
    "# Creating plots\n",
    "for i in range(nb_participants):\n",
    "    print('Participant: '+str(i))\n",
    "    x = mf_questions_tot[i]\n",
    "    name = participants[i]\n",
    "    mf.plot_results(x,name)\n"
   ]
  },
  {
   "cell_type": "markdown",
   "id": "64778796",
   "metadata": {},
   "source": [
    "### Box Plots"
   ]
  },
  {
   "cell_type": "code",
   "execution_count": null,
   "id": "9fab4051",
   "metadata": {
    "scrolled": false
   },
   "outputs": [],
   "source": [
    "# Creating boxplots\n",
    "for i in range(nb_participants):\n",
    "    print('Participant: '+str(i))\n",
    "    x = (np.transpose(mf_questions_tot[i]))\n",
    "    name = participants[i]\n",
    "    mf.plot_boxplots(x,name)"
   ]
  },
  {
   "cell_type": "code",
   "execution_count": null,
   "id": "3a912bbd",
   "metadata": {},
   "outputs": [],
   "source": [
    "#Create data for ANOVA\n",
    "# df1 = pd.DataFrame({'Id': np.repeat([1], 4),\n",
    "#                           'Questionnaire': [1, 2, 3, 4],\n",
    "#                            'Answer': [q1, q2, q3, q4]})\n",
    "\n",
    "# print(df1)\n",
    "\n",
    "# df2 = pd.DataFrame({'Id': np.repeat([1], 4),\n",
    "#                           'Questionnaire': [1, 2, 3, 4],\n",
    "#                            'Mean': MF_means})\n",
    "\n",
    "# print(df2)"
   ]
  },
  {
   "cell_type": "markdown",
   "id": "600e86c7",
   "metadata": {},
   "source": [
    "### ANOVA"
   ]
  },
  {
   "cell_type": "code",
   "execution_count": null,
   "id": "f959bf12",
   "metadata": {},
   "outputs": [],
   "source": [
    "# Run a one-way ANOVA and print out alpha, the p value,\n",
    "# and whether the comparison says to reject the null hypothesis.\n",
    "#https://nathancarter.github.io/how2data/site/how-to-do-a-one-way-analysis-of-variance-anova/\n",
    "alpha = 0.05\n",
    "ANOVA_results = []\n",
    "\n",
    "for i in range(nb_participants):\n",
    "        print('Participant: '+str(i))\n",
    "        q1 = mf_questions_tot[i][0]\n",
    "        q2 = mf_questions_tot[i][1]\n",
    "        q3 = mf_questions_tot[i][2]\n",
    "        q4 = mf_questions_tot[i][3]\n",
    "        F_statistic, p_value = stats.f_oneway(q1, q2, q3, q4)\n",
    "        reject_H0 = p_value < alpha\n",
    "        ANOVA_results_single = [alpha, p_value, reject_H0]\n",
    "        ANOVA_results.append(ANOVA_results_single)\n",
    "        print('P-value: '+str(p_value))\n",
    "        print('Reject Null: '+str(reject_H0))\n",
    "        print('_________________________________________________________________________________________')\n",
    "\n",
    "#print(ANOVA_results)"
   ]
  },
  {
   "cell_type": "code",
   "execution_count": null,
   "id": "add4c1e5",
   "metadata": {},
   "outputs": [],
   "source": [
    "# t-test\n",
    "# https://docs.scipy.org/doc/scipy/reference/generated/scipy.stats.ttest_rel.html\n",
    "alpha = 0.05\n",
    "t_tests_results = []\n",
    "\n",
    "for i in range(nb_participants):\n",
    "        print('Participant: '+str(i))\n",
    "        q1 = mf_questions_tot[i][0]\n",
    "        q2 = mf_questions_tot[i][1]\n",
    "        q3 = mf_questions_tot[i][2]\n",
    "        q4 = mf_questions_tot[i][3]\n",
    "        \n",
    "        # Pairwise t-test comparisons\n",
    "        stat_q1q2, p_value_q1q2 = stats.ttest_rel(q1, q2, axis=0, nan_policy='propagate', alternative='less')\n",
    "        reject_H0_q1q2 = p_value_q1q2 < alpha\n",
    "        print('Q1-Q2:')\n",
    "        print(stat_q1q2, p_value_q1q2, reject_H0_q1q2)\n",
    "        print('_______________________________________')\n",
    "        stat_q1q3, p_value_q1q3 = stats.ttest_rel(q1, q3, axis=0, nan_policy='propagate', alternative='less')\n",
    "        reject_H0_q1q3 = p_value_q1q3 < alpha\n",
    "        print('Q1-Q3:')\n",
    "        print(stat_q1q3, p_value_q1q3, reject_H0_q1q3)\n",
    "        print('_______________________________________')\n",
    "        stat_q1q4, p_value_q1q4 = stats.ttest_rel(q1, q4, axis=0, nan_policy='propagate', alternative='less')\n",
    "        reject_H0_q1q4 = p_value_q1q4 < alpha\n",
    "        print('Q1-Q4:')\n",
    "        print(stat_q1q4, p_value_q1q4, reject_H0_q1q4)\n",
    "        print('_______________________________________')\n",
    "        stat_q2q3, p_value_q2q3 = stats.ttest_rel(q2, q3, axis=0, nan_policy='propagate', alternative='less')\n",
    "        reject_H0_q2q3 = p_value_q2q3 < alpha\n",
    "        print('Q2-Q3:')\n",
    "        print(stat_q2q3, p_value_q2q3, reject_H0_q2q3)\n",
    "        print('_______________________________________')\n",
    "        stat_q2q4, p_value_q2q4 = stats.ttest_rel(q2, q4, axis=0, nan_policy='propagate', alternative='less')\n",
    "        reject_H0_q2q4 = p_value_q2q4 < alpha\n",
    "        print('Q2-Q4:')\n",
    "        print(stat_q2q4, p_value_q2q4, reject_H0_q2q4)\n",
    "        print('_______________________________________')\n",
    "        stat_q3q4, p_value_q3q4 = stats.ttest_rel(q3, q4, axis=0, nan_policy='propagate', alternative='less')\n",
    "        reject_H0_q3q4 = p_value_q3q4 < alpha\n",
    "        print('Q3-Q4:')\n",
    "        print(stat_q3q4, p_value_q3q4, reject_H0_q3q4)\n",
    "        print('_________________________________________________________________________________________')\n",
    "        \n",
    "        ttest_results_single = [stat_q1q2, p_value_q1q2, reject_H0_q1q2,\n",
    "                                stat_q1q3, p_value_q1q3, reject_H0_q1q3,\n",
    "                                stat_q1q4, p_value_q1q4, reject_H0_q1q4,\n",
    "                                stat_q2q3, p_value_q2q3, reject_H0_q2q3,\n",
    "                                stat_q2q4, p_value_q2q4, reject_H0_q2q4,\n",
    "                                stat_q3q4, p_value_q3q4, reject_H0_q3q4\n",
    "                               ]\n",
    "        t_tests_results.append(ttest_results_single)"
   ]
  },
  {
   "cell_type": "code",
   "execution_count": null,
   "id": "c81481f7",
   "metadata": {},
   "outputs": [],
   "source": []
  },
  {
   "cell_type": "code",
   "execution_count": null,
   "id": "eedb23b4",
   "metadata": {},
   "outputs": [],
   "source": []
  },
  {
   "cell_type": "code",
   "execution_count": null,
   "id": "b84f4afc",
   "metadata": {},
   "outputs": [],
   "source": []
  },
  {
   "cell_type": "code",
   "execution_count": null,
   "id": "620052d0",
   "metadata": {},
   "outputs": [],
   "source": []
  }
 ],
 "metadata": {
  "kernelspec": {
   "display_name": "Python 3 (ipykernel)",
   "language": "python",
   "name": "python3"
  },
  "language_info": {
   "codemirror_mode": {
    "name": "ipython",
    "version": 3
   },
   "file_extension": ".py",
   "mimetype": "text/x-python",
   "name": "python",
   "nbconvert_exporter": "python",
   "pygments_lexer": "ipython3",
   "version": "3.9.7"
  }
 },
 "nbformat": 4,
 "nbformat_minor": 5
}
