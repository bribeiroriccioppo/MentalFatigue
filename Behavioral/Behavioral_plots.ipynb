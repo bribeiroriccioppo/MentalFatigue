{
 "cells": [
  {
   "cell_type": "code",
   "execution_count": 1,
   "id": "e55646f4",
   "metadata": {},
   "outputs": [],
   "source": [
    "%load_ext autoreload\n",
    "%autoreload 2\n",
    "%matplotlib qt\n",
    "\n",
    "import data\n",
    "import mne\n",
    "import pandas as pd\n",
    "import numpy as np\n",
    "import seaborn as sns\n",
    "import matplotlib.pyplot as plt\n",
    "import os\n",
    "import scipy\n",
    "import pingouin as pg\n",
    "from os import listdir\n",
    "from os.path import isfile, join\n",
    "\n",
    "sns.set(font_scale=1)"
   ]
  },
  {
   "cell_type": "markdown",
   "id": "94e72383",
   "metadata": {},
   "source": [
    "## Loading Data"
   ]
  },
  {
   "cell_type": "code",
   "execution_count": 13,
   "id": "7de5557e",
   "metadata": {},
   "outputs": [],
   "source": [
    "path = 'C:/Users/bribeiroriccioppo/Desktop/mental-fatigue/Raw Data/'\n",
    "xdf_files = [xdf for xdf in listdir(path) if isfile(join(path, xdf))]\n",
    "\n",
    "for i in range(len(xdf_files)):\n",
    "    xdf_files[i] = path + xdf_files[i]"
   ]
  },
  {
   "cell_type": "code",
   "execution_count": 14,
   "id": "d9ae8510",
   "metadata": {},
   "outputs": [
    {
     "data": {
      "text/plain": [
       "['C:/Users/bribeiroriccioppo/Desktop/mental-fatigue/Raw Data/S10_2022-05-24.xdf',\n",
       " 'C:/Users/bribeiroriccioppo/Desktop/mental-fatigue/Raw Data/S11_2022-05-30.xdf',\n",
       " 'C:/Users/bribeiroriccioppo/Desktop/mental-fatigue/Raw Data/S12_2022-05-31.xdf',\n",
       " 'C:/Users/bribeiroriccioppo/Desktop/mental-fatigue/Raw Data/S6_2022-05-20.xdf',\n",
       " 'C:/Users/bribeiroriccioppo/Desktop/mental-fatigue/Raw Data/S7_2022-05-19.xdf',\n",
       " 'C:/Users/bribeiroriccioppo/Desktop/mental-fatigue/Raw Data/S8_2022-05-20.xdf',\n",
       " 'C:/Users/bribeiroriccioppo/Desktop/mental-fatigue/Raw Data/S9_2022-05-23.xdf']"
      ]
     },
     "execution_count": 14,
     "metadata": {},
     "output_type": "execute_result"
    }
   ],
   "source": [
    "xdf_files"
   ]
  },
  {
   "cell_type": "code",
   "execution_count": 20,
   "id": "e351f166",
   "metadata": {},
   "outputs": [
    {
     "name": "stderr",
     "output_type": "stream",
     "text": [
      "Stream 5: Calculated effective sampling rate 94.9479 Hz is different from specified rate 60.0000 Hz.\n",
      "Stream 5: Calculated effective sampling rate 95.2967 Hz is different from specified rate 60.0000 Hz.\n",
      "Stream 4: Calculated effective sampling rate 94.8056 Hz is different from specified rate 60.0000 Hz.\n",
      "Stream 1: Calculated effective sampling rate 95.1886 Hz is different from specified rate 60.0000 Hz.\n",
      "Stream 7: Calculated effective sampling rate 95.0603 Hz is different from specified rate 60.0000 Hz.\n",
      "Stream 6: Calculated effective sampling rate 95.1981 Hz is different from specified rate 60.0000 Hz.\n",
      "Stream 7: Calculated effective sampling rate 95.1530 Hz is different from specified rate 60.0000 Hz.\n"
     ]
    }
   ],
   "source": [
    "participants = data.preprocessing(xdf_files)"
   ]
  },
  {
   "cell_type": "code",
   "execution_count": 21,
   "id": "b6a668f4",
   "metadata": {},
   "outputs": [],
   "source": [
    "participants_list = ['S6_2022-05-20', 'S7_2022-05-19', 'S8_2022-05-20', 'S9_2022-05-23','S10_2022-05-24','S11_2022-05-30']"
   ]
  },
  {
   "cell_type": "markdown",
   "id": "cd0b6a49",
   "metadata": {},
   "source": [
    "## Data"
   ]
  },
  {
   "cell_type": "code",
   "execution_count": 22,
   "id": "5325f37c",
   "metadata": {},
   "outputs": [],
   "source": [
    "participant = participants_list[5]\n",
    "blocks_df = participants[participant]['Blocks']\n",
    "math_tasks_df = participants[participant]['MathTasks']\n",
    "tone_tasks_df = participants[participant]['ToneTasks']\n",
    "keyboard_df = participants[participant]['Keyboard']\n",
    "quest_df = participants[participant]['Questionnaire']"
   ]
  },
  {
   "cell_type": "code",
   "execution_count": 7,
   "id": "78027da4",
   "metadata": {},
   "outputs": [
    {
     "data": {
      "text/plain": [
       "'S11_2022-05-30'"
      ]
     },
     "execution_count": 7,
     "metadata": {},
     "output_type": "execute_result"
    }
   ],
   "source": [
    "participant"
   ]
  },
  {
   "cell_type": "code",
   "execution_count": 8,
   "id": "3233d8c4",
   "metadata": {},
   "outputs": [
    {
     "data": {
      "text/html": [
       "<div>\n",
       "<style scoped>\n",
       "    .dataframe tbody tr th:only-of-type {\n",
       "        vertical-align: middle;\n",
       "    }\n",
       "\n",
       "    .dataframe tbody tr th {\n",
       "        vertical-align: top;\n",
       "    }\n",
       "\n",
       "    .dataframe thead th {\n",
       "        text-align: right;\n",
       "    }\n",
       "</style>\n",
       "<table border=\"1\" class=\"dataframe\">\n",
       "  <thead>\n",
       "    <tr style=\"text-align: right;\">\n",
       "      <th></th>\n",
       "      <th>block_idx</th>\n",
       "      <th>block_id</th>\n",
       "      <th>lsl_end_ts</th>\n",
       "      <th>lsl_init_ts</th>\n",
       "    </tr>\n",
       "  </thead>\n",
       "  <tbody>\n",
       "    <tr>\n",
       "      <th>0</th>\n",
       "      <td>0.0</td>\n",
       "      <td>0.0</td>\n",
       "      <td>21909.225034</td>\n",
       "      <td>21885.894168</td>\n",
       "    </tr>\n",
       "    <tr>\n",
       "      <th>1</th>\n",
       "      <td>1.0</td>\n",
       "      <td>1.0</td>\n",
       "      <td>22029.228238</td>\n",
       "      <td>21909.225774</td>\n",
       "    </tr>\n",
       "    <tr>\n",
       "      <th>2</th>\n",
       "      <td>2.0</td>\n",
       "      <td>2.0</td>\n",
       "      <td>22044.335683</td>\n",
       "      <td>22029.228500</td>\n",
       "    </tr>\n",
       "    <tr>\n",
       "      <th>3</th>\n",
       "      <td>3.0</td>\n",
       "      <td>3.0</td>\n",
       "      <td>22165.309428</td>\n",
       "      <td>22044.340204</td>\n",
       "    </tr>\n",
       "    <tr>\n",
       "      <th>4</th>\n",
       "      <td>4.0</td>\n",
       "      <td>4.0</td>\n",
       "      <td>22195.931387</td>\n",
       "      <td>22165.311342</td>\n",
       "    </tr>\n",
       "  </tbody>\n",
       "</table>\n",
       "</div>"
      ],
      "text/plain": [
       "   block_idx  block_id    lsl_end_ts   lsl_init_ts\n",
       "0        0.0       0.0  21909.225034  21885.894168\n",
       "1        1.0       1.0  22029.228238  21909.225774\n",
       "2        2.0       2.0  22044.335683  22029.228500\n",
       "3        3.0       3.0  22165.309428  22044.340204\n",
       "4        4.0       4.0  22195.931387  22165.311342"
      ]
     },
     "execution_count": 8,
     "metadata": {},
     "output_type": "execute_result"
    }
   ],
   "source": [
    "blocks_df.head(5)"
   ]
  },
  {
   "cell_type": "markdown",
   "id": "c3e1ad81",
   "metadata": {},
   "source": [
    "### Blocks"
   ]
  },
  {
   "cell_type": "code",
   "execution_count": 8,
   "id": "851eb091",
   "metadata": {},
   "outputs": [
    {
     "name": "stdout",
     "output_type": "stream",
     "text": [
      "    block_idx  block_id    lsl_end_ts   lsl_init_ts\n",
      "0         0.0       0.0  21909.225034  21885.894168\n",
      "1         1.0       1.0  22029.228238  21909.225774\n",
      "2         2.0       2.0  22044.335683  22029.228500\n",
      "3         3.0       3.0  22165.309428  22044.340204\n",
      "4         4.0       4.0  22195.931387  22165.311342\n",
      "5         5.0       5.0  22210.264091  22195.931116\n",
      "6         6.0       6.0  22240.368197  22210.265711\n",
      "7         7.0       7.0  22270.778738  22240.369532\n",
      "8         8.0       8.0  22301.091478  22270.779887\n",
      "9         9.0       9.0  22305.388622  22301.091250\n",
      "10       10.0      10.0  22335.412941  22305.388886\n",
      "11       11.0      12.0  22346.271657  22335.412831\n",
      "12       12.0      11.0  22453.229245  22346.271456\n",
      "13       13.0      10.0  22753.250409  22453.229944\n",
      "14       14.0      16.0  22783.315620  22753.249691\n",
      "15       15.0      10.0  23083.370724  22783.314866\n",
      "16       16.0      16.0  23113.376419  23083.369576\n",
      "17       17.0      10.0  23413.468544  23113.371012\n",
      "18       18.0      16.0  23443.529871  23413.468465\n",
      "19       19.0      10.0  23743.570587  23443.529438\n",
      "20       20.0      11.0  23812.804146  23743.570403\n",
      "21       21.0      10.0  24112.893222  23812.803912\n",
      "22       22.0      16.0  24142.979701  24112.894027\n",
      "23       23.0      10.0  24443.033957  24142.979458\n",
      "24       24.0      16.0  24473.124578  24443.033969\n",
      "25       25.0      10.0  24773.191263  24473.124647\n",
      "26       26.0      16.0  24803.269607  24773.191262\n",
      "27       27.0      10.0  25103.364232  24803.269175\n",
      "28       28.0      11.0  25157.592545  25103.364558\n",
      "29       29.0      10.0  25457.633685  25157.594433\n",
      "30       30.0      16.0  25487.714152  25457.633125\n",
      "31       31.0      10.0  25787.773223  25487.715159\n",
      "32       32.0      16.0  25817.876274  25787.773142\n",
      "33       33.0      10.0  26117.916676  25817.876923\n",
      "34       34.0      16.0  26147.920127  26117.917374\n",
      "35       35.0      10.0  26448.014921  26147.924420\n",
      "36       36.0      11.0  26504.707676  26448.015462\n",
      "37       37.0      13.0  26521.045450  26504.707009\n",
      "38       38.0       1.0  26641.098375  26521.046229\n",
      "39       39.0      14.0  26648.005530  26641.098883\n",
      "40       40.0       3.0  26768.867369  26648.006525\n",
      "41       41.0      15.0  26773.699777  26768.866457\n"
     ]
    }
   ],
   "source": [
    "print(blocks_df)"
   ]
  },
  {
   "cell_type": "code",
   "execution_count": 23,
   "id": "9f720642",
   "metadata": {},
   "outputs": [
    {
     "name": "stdout",
     "output_type": "stream",
     "text": [
      "      block_idx  task_idx   stimulus_ts  stimulus_id  lsl_stimulus_ts  \\\n",
      "0           8.0       9.0  1.653918e+09          1.0     22272.567839   \n",
      "1           8.0       9.0  1.653918e+09          1.0     22274.355210   \n",
      "2           8.0       9.0  1.653918e+09          1.0     22276.142459   \n",
      "3           8.0       9.0  1.653918e+09          1.0     22277.928473   \n",
      "4           8.0       9.0  1.653918e+09          1.0     22279.723963   \n",
      "...         ...       ...           ...          ...              ...   \n",
      "2072       35.0     917.0  1.653922e+09          1.0     26441.022230   \n",
      "2073       35.0     917.0  1.653922e+09          1.0     26442.809449   \n",
      "2074       35.0     917.0  1.653922e+09          1.0     26444.609979   \n",
      "2075       35.0     917.0  1.653922e+09          1.0     26446.334990   \n",
      "2076       35.0     917.0  1.653922e+09          1.0     26448.014903   \n",
      "\n",
      "      space_ts  rt  \n",
      "0          NaN NaN  \n",
      "1          NaN NaN  \n",
      "2          NaN NaN  \n",
      "3          NaN NaN  \n",
      "4          NaN NaN  \n",
      "...        ...  ..  \n",
      "2072       NaN NaN  \n",
      "2073       NaN NaN  \n",
      "2074       NaN NaN  \n",
      "2075       NaN NaN  \n",
      "2076       NaN NaN  \n",
      "\n",
      "[2077 rows x 7 columns]\n"
     ]
    }
   ],
   "source": [
    "print(tone_tasks_df)"
   ]
  },
  {
   "cell_type": "code",
   "execution_count": 12,
   "id": "6ed30c29",
   "metadata": {},
   "outputs": [
    {
     "data": {
      "text/plain": [
       "1654089176.5029047"
      ]
     },
     "execution_count": 12,
     "metadata": {},
     "output_type": "execute_result"
    }
   ],
   "source": [
    "import time\n",
    "time.time()"
   ]
  },
  {
   "cell_type": "code",
   "execution_count": 9,
   "id": "525ec0cf",
   "metadata": {},
   "outputs": [
    {
     "name": "stdout",
     "output_type": "stream",
     "text": [
      "    block_idx  block_id   lsl_end_ts  lsl_init_ts\n",
      "0         0.0       0.0    23.330866     0.000000\n",
      "1         1.0       1.0   143.334070    23.331606\n",
      "2         2.0       2.0   158.441515   143.334332\n",
      "3         3.0       3.0   279.415260   158.446036\n",
      "4         4.0       4.0   310.037219   279.417174\n",
      "5         5.0       5.0   324.369923   310.036948\n",
      "6         6.0       6.0   354.474029   324.371543\n",
      "7         7.0       7.0   384.884570   354.475364\n",
      "8         8.0       8.0   415.197310   384.885718\n",
      "9         9.0       9.0   419.494454   415.197082\n",
      "10       10.0      10.0   449.518773   419.494718\n",
      "11       11.0      12.0   460.377489   449.518663\n",
      "12       12.0      11.0   567.335077   460.377288\n",
      "13       13.0      10.0   867.356241   567.335775\n",
      "14       14.0      16.0   897.421452   867.355523\n",
      "15       15.0      10.0  1197.476556   897.420698\n",
      "16       16.0      16.0  1227.482251  1197.475408\n",
      "17       17.0      10.0  1527.574376  1227.476844\n",
      "18       18.0      16.0  1557.635703  1527.574297\n",
      "19       19.0      10.0  1857.676419  1557.635269\n",
      "20       20.0      11.0  1926.909978  1857.676235\n",
      "21       21.0      10.0  2226.999054  1926.909744\n",
      "22       22.0      16.0  2257.085533  2226.999859\n",
      "23       23.0      10.0  2557.139789  2257.085290\n",
      "24       24.0      16.0  2587.230410  2557.139801\n",
      "25       25.0      10.0  2887.297095  2587.230479\n",
      "26       26.0      16.0  2917.375439  2887.297094\n",
      "27       27.0      10.0  3217.470064  2917.375007\n",
      "28       28.0      11.0  3271.698377  3217.470390\n",
      "29       29.0      10.0  3571.739517  3271.700265\n",
      "30       30.0      16.0  3601.819984  3571.738957\n",
      "31       31.0      10.0  3901.879055  3601.820991\n",
      "32       32.0      16.0  3931.982106  3901.878974\n",
      "33       33.0      10.0  4232.022508  3931.982755\n",
      "34       34.0      16.0  4262.025959  4232.023206\n",
      "35       35.0      10.0  4562.120753  4262.030252\n",
      "36       36.0      11.0  4618.813507  4562.121294\n",
      "37       37.0      13.0  4635.151282  4618.812841\n",
      "38       38.0       1.0  4755.204207  4635.152061\n",
      "39       39.0      14.0  4762.111361  4755.204715\n",
      "40       40.0       3.0  4882.973201  4762.112357\n",
      "41       41.0      15.0  4887.805609  4882.972289\n"
     ]
    }
   ],
   "source": [
    "init_time = blocks_df['lsl_init_ts'][0]\n",
    "blocks_df['lsl_end_ts'] = blocks_df['lsl_end_ts']-init_time\n",
    "blocks_df['lsl_init_ts'] = blocks_df['lsl_init_ts']-init_time\n",
    "print(blocks_df)"
   ]
  },
  {
   "cell_type": "markdown",
   "id": "2a5210ce",
   "metadata": {},
   "source": [
    "### Math task"
   ]
  },
  {
   "cell_type": "code",
   "execution_count": 10,
   "id": "e9e4fc77",
   "metadata": {
    "scrolled": false
   },
   "outputs": [
    {
     "name": "stdout",
     "output_type": "stream",
     "text": [
      "     block_idx  task_idx  correct   lsl_end_ts  lsl_init_ts\n",
      "0          6.0       2.0      1.0   330.771024   324.370310\n",
      "1          6.0       3.0      1.0   339.872625   330.771515\n",
      "2          6.0       4.0      1.0   344.125599   339.873337\n",
      "3          6.0       5.0      1.0   349.345039   344.126327\n",
      "4          6.0       6.0      1.0   352.472983   349.344903\n",
      "..         ...       ...      ...          ...          ...\n",
      "992       35.0    1009.0      1.0  4552.572510  4550.333368\n",
      "993       35.0    1010.0      1.0  4554.181413  4552.572183\n",
      "994       35.0    1011.0      1.0  4557.241097  4554.182390\n",
      "995       35.0    1012.0      1.0  4560.334998  4557.241877\n",
      "996       35.0    1013.0     -1.0  4562.120716  4560.334985\n",
      "\n",
      "[997 rows x 5 columns]\n"
     ]
    }
   ],
   "source": [
    "math_tasks_df['lsl_end_ts'] = math_tasks_df['lsl_end_ts']-init_time\n",
    "math_tasks_df['lsl_init_ts'] = math_tasks_df['lsl_init_ts']-init_time\n",
    "print(math_tasks_df)"
   ]
  },
  {
   "cell_type": "code",
   "execution_count": 11,
   "id": "0a64eac1",
   "metadata": {
    "scrolled": true
   },
   "outputs": [],
   "source": [
    "end_ts_df = math_tasks_df['lsl_end_ts']\n",
    "init_ts_df = math_tasks_df['lsl_init_ts']\n",
    "\n",
    "# Reaction times:\n",
    "rt = end_ts_df - init_ts_df\n",
    "\n",
    "# Answers:\n",
    "answers = math_tasks_df['correct']"
   ]
  },
  {
   "cell_type": "code",
   "execution_count": 13,
   "id": "5db4c05a",
   "metadata": {},
   "outputs": [],
   "source": [
    "# Linear regression\n",
    "x_fit = []\n",
    "for i in range(len(rt)):\n",
    "    x_fit.append(i)\n",
    "\n",
    "slope, intercept = np.polyfit(x_fit, rt, deg=1) # régression linéaire pour trouver la pente\n",
    "# --> regarder si c'est significatif ou pas, pcq si c'est pas le cas, on peut dire que la différence n'est pas important\n",
    "# mais qu'on voit voit quand mm qu'à la fin ya des cas avec des grosses amplitudes\n",
    "x = range(len(rt))\n",
    "#x = np.linspace(0,len(rt),100)\n",
    "y = slope*x+intercept\n",
    "\n",
    "plt.figure(figsize=(12, 6))\n",
    "plt.xlabel(\"Tasks\")\n",
    "plt.ylabel(\"Reaction Time [s]\")\n",
    "plt.plot(x,rt)\n",
    "plt.scatter(x,answers,c='g',label=\"Answers: 1 = correct, 0 = false, -1 = no answer\")\n",
    "plt.plot(x,y,label='Slope = '+str(round(slope,4)))\n",
    "plt.legend(loc='upper right')\n",
    "plt.savefig('MathTask_S11.png', dpi=300, bbox_inches='tight')"
   ]
  },
  {
   "cell_type": "markdown",
   "id": "30650e59",
   "metadata": {},
   "source": [
    "### Tone task"
   ]
  },
  {
   "cell_type": "code",
   "execution_count": 11,
   "id": "7ed18d98",
   "metadata": {},
   "outputs": [
    {
     "name": "stdout",
     "output_type": "stream",
     "text": [
      "      block_idx  task_idx   stimulus_ts  stimulus_id  space_ts  rt\n",
      "0           8.0       8.0  1.652772e+09          1.0       NaN NaN\n",
      "1           8.0       8.0  1.652772e+09          1.0       NaN NaN\n",
      "2           8.0       8.0  1.652772e+09          1.0       NaN NaN\n",
      "3           8.0       8.0  1.652772e+09          0.0       NaN NaN\n",
      "4           8.0       8.0  1.652772e+09          0.0       NaN NaN\n",
      "...         ...       ...           ...          ...       ...  ..\n",
      "2035       35.0     706.0  1.652776e+09          1.0       NaN NaN\n",
      "2036       35.0     706.0  1.652776e+09          1.0       NaN NaN\n",
      "2037       35.0     706.0  1.652776e+09          1.0       NaN NaN\n",
      "2038       35.0     706.0  1.652776e+09          0.0       NaN NaN\n",
      "2039       35.0     706.0  1.652776e+09          0.0       NaN NaN\n",
      "\n",
      "[2040 rows x 6 columns]\n"
     ]
    }
   ],
   "source": [
    "tone_tasks_df['stimulus_ts'] = tone_tasks_df['stimulus_ts']-init_time\n",
    "print(tone_tasks_df)\n",
    "\n",
    "#CHECKER ENCORE LE TEMPS DU TONE TASK"
   ]
  },
  {
   "cell_type": "markdown",
   "id": "3993e1c1",
   "metadata": {},
   "source": [
    "### Keyboard"
   ]
  },
  {
   "cell_type": "code",
   "execution_count": 12,
   "id": "2411d2e9",
   "metadata": {},
   "outputs": [
    {
     "name": "stdout",
     "output_type": "stream",
     "text": [
      "            events  reaction_ts\n",
      "32   SPACE pressed   486.846550\n",
      "34   SPACE pressed   488.621260\n",
      "36   SPACE pressed   504.760111\n",
      "38   SPACE pressed   524.362161\n",
      "40   SPACE pressed   529.739064\n",
      "..             ...          ...\n",
      "768  SPACE pressed  4647.891359\n",
      "770  SPACE pressed  4651.444462\n",
      "772  SPACE pressed  4679.967525\n",
      "774  SPACE pressed  4681.679230\n",
      "776  SPACE pressed  4688.620574\n",
      "\n",
      "[373 rows x 2 columns]\n"
     ]
    }
   ],
   "source": [
    "keyboard_df['reaction_ts'] = keyboard_df['reaction_ts']-init_time\n",
    "print(keyboard_df)"
   ]
  },
  {
   "cell_type": "markdown",
   "id": "9ed94e8c",
   "metadata": {},
   "source": [
    "### Questionnaire"
   ]
  },
  {
   "cell_type": "code",
   "execution_count": 13,
   "id": "1e1ff450",
   "metadata": {
    "scrolled": true
   },
   "outputs": [
    {
     "data": {
      "text/html": [
       "<div>\n",
       "<style scoped>\n",
       "    .dataframe tbody tr th:only-of-type {\n",
       "        vertical-align: middle;\n",
       "    }\n",
       "\n",
       "    .dataframe tbody tr th {\n",
       "        vertical-align: top;\n",
       "    }\n",
       "\n",
       "    .dataframe thead th {\n",
       "        text-align: right;\n",
       "    }\n",
       "</style>\n",
       "<table border=\"1\" class=\"dataframe\">\n",
       "  <thead>\n",
       "    <tr style=\"text-align: right;\">\n",
       "      <th></th>\n",
       "      <th>question_1</th>\n",
       "      <th>question_2</th>\n",
       "      <th>question_3</th>\n",
       "      <th>question_4</th>\n",
       "      <th>question_5</th>\n",
       "      <th>question_6</th>\n",
       "      <th>question_7</th>\n",
       "      <th>question_113</th>\n",
       "      <th>question_214</th>\n",
       "      <th>question_315</th>\n",
       "      <th>question_416</th>\n",
       "      <th>question_517</th>\n",
       "      <th>question_518</th>\n",
       "      <th>question_519</th>\n",
       "    </tr>\n",
       "  </thead>\n",
       "  <tbody>\n",
       "    <tr>\n",
       "      <th>0</th>\n",
       "      <td>1.0</td>\n",
       "      <td>1.0</td>\n",
       "      <td>1.0</td>\n",
       "      <td>0.0</td>\n",
       "      <td>1.0</td>\n",
       "      <td>2.0</td>\n",
       "      <td>1.0</td>\n",
       "      <td>3.0</td>\n",
       "      <td>6.0</td>\n",
       "      <td>0.0</td>\n",
       "      <td>2.0</td>\n",
       "      <td>0.0</td>\n",
       "      <td>3.0</td>\n",
       "      <td>0.0</td>\n",
       "    </tr>\n",
       "    <tr>\n",
       "      <th>1</th>\n",
       "      <td>1.0</td>\n",
       "      <td>2.0</td>\n",
       "      <td>0.0</td>\n",
       "      <td>0.0</td>\n",
       "      <td>1.0</td>\n",
       "      <td>0.0</td>\n",
       "      <td>3.0</td>\n",
       "      <td>3.0</td>\n",
       "      <td>4.0</td>\n",
       "      <td>0.0</td>\n",
       "      <td>0.0</td>\n",
       "      <td>1.0</td>\n",
       "      <td>0.0</td>\n",
       "      <td>1.0</td>\n",
       "    </tr>\n",
       "    <tr>\n",
       "      <th>2</th>\n",
       "      <td>1.0</td>\n",
       "      <td>2.0</td>\n",
       "      <td>3.0</td>\n",
       "      <td>0.0</td>\n",
       "      <td>1.0</td>\n",
       "      <td>0.0</td>\n",
       "      <td>2.0</td>\n",
       "      <td>2.0</td>\n",
       "      <td>2.0</td>\n",
       "      <td>0.0</td>\n",
       "      <td>4.0</td>\n",
       "      <td>1.0</td>\n",
       "      <td>1.0</td>\n",
       "      <td>1.0</td>\n",
       "    </tr>\n",
       "    <tr>\n",
       "      <th>3</th>\n",
       "      <td>2.0</td>\n",
       "      <td>4.0</td>\n",
       "      <td>4.0</td>\n",
       "      <td>0.0</td>\n",
       "      <td>1.0</td>\n",
       "      <td>0.0</td>\n",
       "      <td>1.0</td>\n",
       "      <td>1.0</td>\n",
       "      <td>1.0</td>\n",
       "      <td>0.0</td>\n",
       "      <td>5.0</td>\n",
       "      <td>2.0</td>\n",
       "      <td>3.0</td>\n",
       "      <td>2.0</td>\n",
       "    </tr>\n",
       "  </tbody>\n",
       "</table>\n",
       "</div>"
      ],
      "text/plain": [
       "   question_1  question_2  question_3  question_4  question_5  question_6  \\\n",
       "0         1.0         1.0         1.0         0.0         1.0         2.0   \n",
       "1         1.0         2.0         0.0         0.0         1.0         0.0   \n",
       "2         1.0         2.0         3.0         0.0         1.0         0.0   \n",
       "3         2.0         4.0         4.0         0.0         1.0         0.0   \n",
       "\n",
       "   question_7  question_113  question_214  question_315  question_416  \\\n",
       "0         1.0           3.0           6.0           0.0           2.0   \n",
       "1         3.0           3.0           4.0           0.0           0.0   \n",
       "2         2.0           2.0           2.0           0.0           4.0   \n",
       "3         1.0           1.0           1.0           0.0           5.0   \n",
       "\n",
       "   question_517  question_518  question_519  \n",
       "0           0.0           3.0           0.0  \n",
       "1           1.0           0.0           1.0  \n",
       "2           1.0           1.0           1.0  \n",
       "3           2.0           3.0           2.0  "
      ]
     },
     "execution_count": 13,
     "metadata": {},
     "output_type": "execute_result"
    }
   ],
   "source": [
    "quest_df"
   ]
  },
  {
   "cell_type": "markdown",
   "id": "feb0bd3a",
   "metadata": {},
   "source": [
    "## Plots"
   ]
  },
  {
   "cell_type": "markdown",
   "id": "bef64659",
   "metadata": {},
   "source": [
    "### Math task"
   ]
  },
  {
   "cell_type": "code",
   "execution_count": null,
   "id": "7841f6ee",
   "metadata": {},
   "outputs": [],
   "source": []
  },
  {
   "cell_type": "markdown",
   "id": "4aeec0b6",
   "metadata": {},
   "source": [
    "### Tone Task"
   ]
  },
  {
   "cell_type": "code",
   "execution_count": null,
   "id": "ed94b584",
   "metadata": {},
   "outputs": [],
   "source": []
  }
 ],
 "metadata": {
  "kernelspec": {
   "display_name": "Python 3 (ipykernel)",
   "language": "python",
   "name": "python3"
  },
  "language_info": {
   "codemirror_mode": {
    "name": "ipython",
    "version": 3
   },
   "file_extension": ".py",
   "mimetype": "text/x-python",
   "name": "python",
   "nbconvert_exporter": "python",
   "pygments_lexer": "ipython3",
   "version": "3.9.7"
  }
 },
 "nbformat": 4,
 "nbformat_minor": 5
}
