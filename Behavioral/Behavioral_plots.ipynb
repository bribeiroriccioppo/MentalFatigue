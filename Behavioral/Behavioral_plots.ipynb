{
 "cells": [
  {
   "cell_type": "code",
   "execution_count": 4,
   "id": "e55646f4",
   "metadata": {},
   "outputs": [
    {
     "name": "stdout",
     "output_type": "stream",
     "text": [
      "The autoreload extension is already loaded. To reload it, use:\n",
      "  %reload_ext autoreload\n"
     ]
    }
   ],
   "source": [
    "%load_ext autoreload\n",
    "%autoreload 2\n",
    "%matplotlib qt\n",
    "\n",
    "import data\n",
    "import mne\n",
    "import pandas as pd\n",
    "import numpy as np\n",
    "import seaborn as sns\n",
    "import matplotlib.pyplot as plt\n",
    "import os\n",
    "import scipy\n",
    "import pingouin as pg\n",
    "\n",
    "sns.set(font_scale=1)"
   ]
  },
  {
   "cell_type": "markdown",
   "id": "94e72383",
   "metadata": {},
   "source": [
    "## Loading Data"
   ]
  },
  {
   "cell_type": "code",
   "execution_count": 16,
   "id": "7de5557e",
   "metadata": {},
   "outputs": [],
   "source": [
    "path = 'C:/Users/bribeiroriccioppo/Desktop/mental-fatigue-questionnaire/Raw Data/'\n",
    "xdf_file_1 = path + \"S10_2022-05-12.xdf\"\n",
    "#xdf_file_2 = path + \"S11_2022-05-12.xdf\"\n",
    "xdf_files = [xdf_file_1]\n"
   ]
  },
  {
   "cell_type": "code",
   "execution_count": 17,
   "id": "d9ae8510",
   "metadata": {},
   "outputs": [
    {
     "data": {
      "text/plain": [
       "['C:/Users/bribeiroriccioppo/Desktop/mental-fatigue-questionnaire/Raw Data/S10_2022-05-12.xdf']"
      ]
     },
     "execution_count": 17,
     "metadata": {},
     "output_type": "execute_result"
    }
   ],
   "source": [
    "xdf_files"
   ]
  },
  {
   "cell_type": "markdown",
   "id": "bef64659",
   "metadata": {},
   "source": [
    "## Tone Task Data"
   ]
  },
  {
   "cell_type": "code",
   "execution_count": 22,
   "id": "4deba9a1",
   "metadata": {},
   "outputs": [],
   "source": [
    "def tone_preprocess(subject):\n",
    "    \n",
    "    tone_data = subjects[str(subject)]['tone_events']\n",
    "    keyboard_data = subjects[str(subject)]['keyboard']\n",
    "    \n",
    "    tone_timestamps = tone_data['LSL timestamp'].to_numpy()\n",
    "    ts_exp_start = tone_timestamps[0]\n",
    "    ts_exp_end = tone_timestamps[-1]\n",
    "    \n",
    "    #blocks = {2: \"Practice\", 7: \"Single1\", 8: \"Single2\", 9: \"Dual1\", 10: \"Dual2\", 11: \"Multi1\", 12: \"Multi2\"}\n",
    "    blocks = {7: \"Single1\", 8: \"Single2\", 9: \"Dual1\", 10: \"Dual2\", 11: \"Multi1\", 12: \"Multi2\"}\n",
    "    tone_data = tone_data.replace({'block': blocks})\n",
    "    #print(list(blocks.values()))\n",
    "    tone_data = tone_data[tone_data['block'].isin(list(blocks.values()))]\n",
    "    \n",
    "    #keep only SPACE pressed events\n",
    "    keyboard_data = keyboard_data[keyboard_data.Event.str.contains(\"SPACE pressed\")] \n",
    "    #remove events that take place before first tone or more than 2 seconds after last tone\n",
    "    keyboard_data = keyboard_data.loc[(keyboard_data['LSL timestamp'] >= ts_exp_start) & (keyboard_data['LSL timestamp'] <= ts_exp_end+2)]\n",
    "    \n",
    "    # assign space pressed events within 1.5 seconds following a tone, to that tone\n",
    "    reaction_window = 1.5 #seconds\n",
    "    space_ts = np.empty(tone_data['LSL timestamp'].shape)\n",
    "    space_ts[:] = np.nan\n",
    "    for idx, tone_ts in enumerate(tone_data['LSL timestamp']):\n",
    "        for press_ts in keyboard_data['LSL timestamp']:\n",
    "            if (press_ts>= tone_ts) & (press_ts <= tone_ts+reaction_window):\n",
    "                space_ts[idx] = press_ts\n",
    "                \n",
    "    tone_data['space_ts'] = space_ts\n",
    "    tone_data['reaction_time'] = tone_data['space_ts'] - tone_data['LSL timestamp']\n",
    "    \n",
    "    target_tone_data = tone_data.loc[tone_data['tone_id'] == 0]\n",
    "    target_tone_data['miss'] = target_tone_data['reaction_time'].isna() #miss: space not pressed after target tone\n",
    "    standard_tone_data = tone_data.loc[tone_data['tone_id'] == 1]\n",
    "    standard_tone_data['FP'] = ~standard_tone_data['reaction_time'].isna() #false positives: space pressed on standard tone\n",
    "    \n",
    "    subjects[str(subject)]['tone_events'] = tone_data\n",
    "    subjects[str(subject)]['keyboard'] = keyboard_data\n",
    "    \n",
    "    return tone_data, keyboard_data, target_tone_data, standard_tone_data"
   ]
  },
  {
   "cell_type": "code",
   "execution_count": 23,
   "id": "6136b2ac",
   "metadata": {},
   "outputs": [
    {
     "name": "stdout",
     "output_type": "stream",
     "text": [
      "S10\n"
     ]
    },
    {
     "ename": "KeyError",
     "evalue": "'tone_events'",
     "output_type": "error",
     "traceback": [
      "\u001b[1;31m---------------------------------------------------------------------------\u001b[0m",
      "\u001b[1;31mKeyError\u001b[0m                                  Traceback (most recent call last)",
      "\u001b[1;32mC:\\Users\\BRIBEI~1\\AppData\\Local\\Temp/ipykernel_13560/2635629104.py\u001b[0m in \u001b[0;36m<module>\u001b[1;34m\u001b[0m\n\u001b[0;32m      5\u001b[0m     \u001b[0mprint\u001b[0m\u001b[1;33m(\u001b[0m\u001b[0msubject\u001b[0m\u001b[1;33m)\u001b[0m\u001b[1;33m\u001b[0m\u001b[1;33m\u001b[0m\u001b[0m\n\u001b[0;32m      6\u001b[0m \u001b[1;33m\u001b[0m\u001b[0m\n\u001b[1;32m----> 7\u001b[1;33m     \u001b[0mtone_data\u001b[0m\u001b[1;33m,\u001b[0m \u001b[0m_\u001b[0m\u001b[1;33m,\u001b[0m \u001b[0mtarget_tone_data\u001b[0m\u001b[1;33m,\u001b[0m \u001b[0mstandard_tone_data\u001b[0m \u001b[1;33m=\u001b[0m \u001b[0mtone_preprocess\u001b[0m\u001b[1;33m(\u001b[0m\u001b[0msubject\u001b[0m\u001b[1;33m)\u001b[0m\u001b[1;33m\u001b[0m\u001b[1;33m\u001b[0m\u001b[0m\n\u001b[0m\u001b[0;32m      8\u001b[0m \u001b[1;33m\u001b[0m\u001b[0m\n\u001b[0;32m      9\u001b[0m     \u001b[0mall_subjs_rt\u001b[0m\u001b[1;33m.\u001b[0m\u001b[0mappend\u001b[0m\u001b[1;33m(\u001b[0m\u001b[0mtone_data\u001b[0m\u001b[1;33m)\u001b[0m\u001b[1;33m\u001b[0m\u001b[1;33m\u001b[0m\u001b[0m\n",
      "\u001b[1;32mC:\\Users\\BRIBEI~1\\AppData\\Local\\Temp/ipykernel_13560/1765334661.py\u001b[0m in \u001b[0;36mtone_preprocess\u001b[1;34m(subject)\u001b[0m\n\u001b[0;32m      1\u001b[0m \u001b[1;32mdef\u001b[0m \u001b[0mtone_preprocess\u001b[0m\u001b[1;33m(\u001b[0m\u001b[0msubject\u001b[0m\u001b[1;33m)\u001b[0m\u001b[1;33m:\u001b[0m\u001b[1;33m\u001b[0m\u001b[1;33m\u001b[0m\u001b[0m\n\u001b[0;32m      2\u001b[0m \u001b[1;33m\u001b[0m\u001b[0m\n\u001b[1;32m----> 3\u001b[1;33m     \u001b[0mtone_data\u001b[0m \u001b[1;33m=\u001b[0m \u001b[0msubjects\u001b[0m\u001b[1;33m[\u001b[0m\u001b[0mstr\u001b[0m\u001b[1;33m(\u001b[0m\u001b[0msubject\u001b[0m\u001b[1;33m)\u001b[0m\u001b[1;33m]\u001b[0m\u001b[1;33m[\u001b[0m\u001b[1;34m'tone_events'\u001b[0m\u001b[1;33m]\u001b[0m\u001b[1;33m\u001b[0m\u001b[1;33m\u001b[0m\u001b[0m\n\u001b[0m\u001b[0;32m      4\u001b[0m     \u001b[0mkeyboard_data\u001b[0m \u001b[1;33m=\u001b[0m \u001b[0msubjects\u001b[0m\u001b[1;33m[\u001b[0m\u001b[0mstr\u001b[0m\u001b[1;33m(\u001b[0m\u001b[0msubject\u001b[0m\u001b[1;33m)\u001b[0m\u001b[1;33m]\u001b[0m\u001b[1;33m[\u001b[0m\u001b[1;34m'keyboard'\u001b[0m\u001b[1;33m]\u001b[0m\u001b[1;33m\u001b[0m\u001b[1;33m\u001b[0m\u001b[0m\n\u001b[0;32m      5\u001b[0m \u001b[1;33m\u001b[0m\u001b[0m\n",
      "\u001b[1;31mKeyError\u001b[0m: 'tone_events'"
     ]
    }
   ],
   "source": [
    "all_subjs_rt = []\n",
    "all_subjs_miss = []\n",
    "all_subjs_fp = []\n",
    "for subject in subjects_list:\n",
    "    print(subject)\n",
    "    \n",
    "    tone_data, _, target_tone_data, standard_tone_data = tone_preprocess(subject)\n",
    "    \n",
    "    all_subjs_rt.append(tone_data)\n",
    "    all_subjs_miss.append(target_tone_data)\n",
    "    all_subjs_fp.append(standard_tone_data)\n",
    "    \n",
    "    plot_rt = sns.barplot(x=\"block\", y=\"reaction_time\", data=tone_data)\n",
    "    plot_rt.set_title(str(subject) + \" Reaction Time\", fontsize=15)\n",
    "    plot_rt.set_xlabel('Block', fontsize=12)\n",
    "    plot_rt.set_ylabel('Reaction Time (s)', fontsize=12)\n",
    "    plt.show()\n",
    "    \n",
    "df_rt_all = pd.concat(all_subjs_rt).reset_index(drop=True)\n",
    "df_miss_all = pd.concat(all_subjs_miss).reset_index(drop=True)\n",
    "df_fp_all = pd.concat(all_subjs_fp).reset_index(drop=True)  "
   ]
  },
  {
   "cell_type": "markdown",
   "id": "4aeec0b6",
   "metadata": {},
   "source": [
    "## Math Task Data"
   ]
  },
  {
   "cell_type": "code",
   "execution_count": null,
   "id": "ed94b584",
   "metadata": {},
   "outputs": [],
   "source": []
  }
 ],
 "metadata": {
  "kernelspec": {
   "display_name": "Python 3 (ipykernel)",
   "language": "python",
   "name": "python3"
  },
  "language_info": {
   "codemirror_mode": {
    "name": "ipython",
    "version": 3
   },
   "file_extension": ".py",
   "mimetype": "text/x-python",
   "name": "python",
   "nbconvert_exporter": "python",
   "pygments_lexer": "ipython3",
   "version": "3.9.7"
  }
 },
 "nbformat": 4,
 "nbformat_minor": 5
}
