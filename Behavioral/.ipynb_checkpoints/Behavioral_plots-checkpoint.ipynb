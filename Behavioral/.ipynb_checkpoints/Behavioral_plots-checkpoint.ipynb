{
 "cells": [
  {
   "cell_type": "code",
   "execution_count": 1,
   "id": "e55646f4",
   "metadata": {},
   "outputs": [],
   "source": [
    "%load_ext autoreload\n",
    "%autoreload 2\n",
    "%matplotlib qt\n",
    "\n",
    "import data\n",
    "import mne\n",
    "import pandas as pd\n",
    "import numpy as np\n",
    "import seaborn as sns\n",
    "import matplotlib.pyplot as plt\n",
    "import os\n",
    "import scipy\n",
    "import pingouin as pg\n",
    "from os import listdir\n",
    "from os.path import isfile, join\n",
    "\n",
    "sns.set(font_scale=1)"
   ]
  },
  {
   "cell_type": "markdown",
   "id": "94e72383",
   "metadata": {},
   "source": [
    "## Loading Data"
   ]
  },
  {
   "cell_type": "code",
   "execution_count": 2,
   "id": "7de5557e",
   "metadata": {},
   "outputs": [],
   "source": [
    "path = 'C:/Users/bribeiroriccioppo/Desktop/mental-fatigue/Raw Data/'\n",
    "xdf_files = [xdf for xdf in listdir(path) if isfile(join(path, xdf))]\n",
    "\n",
    "for i in range(len(xdf_files)):\n",
    "    xdf_files[i] = path + xdf_files[i]"
   ]
  },
  {
   "cell_type": "code",
   "execution_count": 3,
   "id": "d9ae8510",
   "metadata": {},
   "outputs": [
    {
     "data": {
      "text/plain": [
       "['C:/Users/bribeiroriccioppo/Desktop/mental-fatigue/Raw Data/S10_2022-05-24.xdf',\n",
       " 'C:/Users/bribeiroriccioppo/Desktop/mental-fatigue/Raw Data/S6_2022-05-20.xdf',\n",
       " 'C:/Users/bribeiroriccioppo/Desktop/mental-fatigue/Raw Data/S7_2022-05-19.xdf',\n",
       " 'C:/Users/bribeiroriccioppo/Desktop/mental-fatigue/Raw Data/S8_2022-05-20.xdf',\n",
       " 'C:/Users/bribeiroriccioppo/Desktop/mental-fatigue/Raw Data/S9_2022-05-23.xdf']"
      ]
     },
     "execution_count": 3,
     "metadata": {},
     "output_type": "execute_result"
    }
   ],
   "source": [
    "xdf_files"
   ]
  },
  {
   "cell_type": "code",
   "execution_count": 4,
   "id": "e351f166",
   "metadata": {},
   "outputs": [
    {
     "name": "stderr",
     "output_type": "stream",
     "text": [
      "Stream 5: Calculated effective sampling rate 94.9479 Hz is different from specified rate 60.0000 Hz.\n",
      "Stream 1: Calculated effective sampling rate 95.1886 Hz is different from specified rate 60.0000 Hz.\n",
      "Stream 7: Calculated effective sampling rate 95.0603 Hz is different from specified rate 60.0000 Hz.\n",
      "Stream 6: Calculated effective sampling rate 95.1981 Hz is different from specified rate 60.0000 Hz.\n",
      "Stream 7: Calculated effective sampling rate 95.1530 Hz is different from specified rate 60.0000 Hz.\n"
     ]
    }
   ],
   "source": [
    "participants = data.preprocessing(xdf_files)"
   ]
  },
  {
   "cell_type": "code",
   "execution_count": 5,
   "id": "29d9b364",
   "metadata": {},
   "outputs": [],
   "source": [
    "participants_list = ['S6_2022-05-20', 'S7_2022-05-19', 'S8_2022-05-20', 'S9_2022-05-23','S10_2022-05-24']"
   ]
  },
  {
   "cell_type": "markdown",
   "id": "cd0b6a49",
   "metadata": {},
   "source": [
    "## Data"
   ]
  },
  {
   "cell_type": "code",
   "execution_count": 8,
   "id": "5325f37c",
   "metadata": {},
   "outputs": [],
   "source": [
    "participant = participants_list[0]\n",
    "blocks_df = participants[participant]['Blocks']\n",
    "math_tasks_df = participants[participant]['MathTasks']\n",
    "tone_tasks_df = participants[participant]['ToneTasks']\n",
    "keyboard_df = participants[participant]['Keyboard']\n",
    "quest_df = participants[participant]['Questionnaire']"
   ]
  },
  {
   "cell_type": "code",
   "execution_count": 9,
   "id": "4790b241",
   "metadata": {},
   "outputs": [
    {
     "data": {
      "text/plain": [
       "'S6_2022-05-20'"
      ]
     },
     "execution_count": 9,
     "metadata": {},
     "output_type": "execute_result"
    }
   ],
   "source": [
    "participant"
   ]
  },
  {
   "cell_type": "code",
   "execution_count": 10,
   "id": "3233d8c4",
   "metadata": {},
   "outputs": [
    {
     "data": {
      "text/html": [
       "<div>\n",
       "<style scoped>\n",
       "    .dataframe tbody tr th:only-of-type {\n",
       "        vertical-align: middle;\n",
       "    }\n",
       "\n",
       "    .dataframe tbody tr th {\n",
       "        vertical-align: top;\n",
       "    }\n",
       "\n",
       "    .dataframe thead th {\n",
       "        text-align: right;\n",
       "    }\n",
       "</style>\n",
       "<table border=\"1\" class=\"dataframe\">\n",
       "  <thead>\n",
       "    <tr style=\"text-align: right;\">\n",
       "      <th></th>\n",
       "      <th>block_idx</th>\n",
       "      <th>block_id</th>\n",
       "      <th>lsl_end_ts</th>\n",
       "      <th>lsl_init_ts</th>\n",
       "    </tr>\n",
       "  </thead>\n",
       "  <tbody>\n",
       "    <tr>\n",
       "      <th>0</th>\n",
       "      <td>0.0</td>\n",
       "      <td>0.0</td>\n",
       "      <td>262488.627172</td>\n",
       "      <td>262474.084099</td>\n",
       "    </tr>\n",
       "    <tr>\n",
       "      <th>1</th>\n",
       "      <td>1.0</td>\n",
       "      <td>1.0</td>\n",
       "      <td>262608.682438</td>\n",
       "      <td>262488.627495</td>\n",
       "    </tr>\n",
       "    <tr>\n",
       "      <th>2</th>\n",
       "      <td>2.0</td>\n",
       "      <td>2.0</td>\n",
       "      <td>262625.133896</td>\n",
       "      <td>262608.681696</td>\n",
       "    </tr>\n",
       "    <tr>\n",
       "      <th>3</th>\n",
       "      <td>3.0</td>\n",
       "      <td>3.0</td>\n",
       "      <td>262746.139214</td>\n",
       "      <td>262625.137534</td>\n",
       "    </tr>\n",
       "    <tr>\n",
       "      <th>4</th>\n",
       "      <td>4.0</td>\n",
       "      <td>4.0</td>\n",
       "      <td>262795.295077</td>\n",
       "      <td>262746.141591</td>\n",
       "    </tr>\n",
       "  </tbody>\n",
       "</table>\n",
       "</div>"
      ],
      "text/plain": [
       "   block_idx  block_id     lsl_end_ts    lsl_init_ts\n",
       "0        0.0       0.0  262488.627172  262474.084099\n",
       "1        1.0       1.0  262608.682438  262488.627495\n",
       "2        2.0       2.0  262625.133896  262608.681696\n",
       "3        3.0       3.0  262746.139214  262625.137534\n",
       "4        4.0       4.0  262795.295077  262746.141591"
      ]
     },
     "execution_count": 10,
     "metadata": {},
     "output_type": "execute_result"
    }
   ],
   "source": [
    "blocks_df.head(5)"
   ]
  },
  {
   "cell_type": "markdown",
   "id": "c3e1ad81",
   "metadata": {},
   "source": [
    "### Blocks"
   ]
  },
  {
   "cell_type": "code",
   "execution_count": 11,
   "id": "525ec0cf",
   "metadata": {},
   "outputs": [
    {
     "name": "stdout",
     "output_type": "stream",
     "text": [
      "    block_idx  block_id   lsl_end_ts  lsl_init_ts\n",
      "0         0.0       0.0    14.543073     0.000000\n",
      "1         1.0       1.0   134.598339    14.543396\n",
      "2         2.0       2.0   151.049797   134.597597\n",
      "3         3.0       3.0   272.055115   151.053435\n",
      "4         4.0       4.0   321.210978   272.057492\n",
      "5         5.0       5.0   344.074803   321.211886\n",
      "6         6.0       6.0   374.093161   344.077179\n",
      "7         7.0       7.0   421.928074   374.095996\n",
      "8         8.0       8.0   451.990901   421.929526\n",
      "9         9.0       9.0   455.535507   451.990975\n",
      "10       10.0      10.0   485.551150   455.537408\n",
      "11       11.0      12.0   509.606660   485.552469\n",
      "12       12.0      11.0   610.082688   509.607693\n",
      "13       13.0      10.0   910.148503   610.082394\n",
      "14       14.0      16.0   940.194022   910.148732\n",
      "15       15.0      10.0  1240.203352   940.193986\n",
      "16       16.0      16.0  1270.246722  1240.203116\n",
      "17       17.0      10.0  1570.282485  1270.248955\n",
      "18       18.0      16.0  1600.314823  1570.282280\n",
      "19       19.0      10.0  1900.393080  1600.315537\n",
      "20       20.0      11.0  1962.752051  1900.392603\n",
      "21       21.0      10.0  2262.824342  1962.752762\n",
      "22       22.0      16.0  2292.907562  2262.823942\n",
      "23       23.0      10.0  2592.913173  2292.911578\n",
      "24       24.0      16.0  2622.957135  2592.913455\n",
      "25       25.0      10.0  2923.025824  2622.957296\n",
      "26       26.0      16.0  2953.055757  2923.025623\n",
      "27       27.0      10.0  3253.096508  2953.056155\n",
      "28       28.0      11.0  3316.960827  3253.095712\n",
      "29       29.0      10.0  3617.003412  3316.952868\n",
      "30       30.0      16.0  3647.057386  3617.003950\n",
      "31       31.0      10.0  3947.111101  3647.054199\n",
      "32       32.0      16.0  3977.172032  3947.111426\n",
      "33       33.0      10.0  4277.228312  3977.171113\n",
      "34       34.0      16.0  4307.312675  4277.228410\n",
      "35       35.0      10.0  4607.391399  4307.313216\n",
      "36       36.0      11.0  4654.130473  4607.390874\n",
      "37       37.0      13.0  4661.735714  4654.130979\n",
      "38       38.0       1.0  4781.737664  4661.735794\n",
      "39       39.0      14.0  4785.291423  4781.737824\n",
      "40       40.0       3.0  4906.166052  4785.291354\n",
      "41       41.0      15.0  4909.826137  4906.165408\n"
     ]
    }
   ],
   "source": [
    "init_time = blocks_df['lsl_init_ts'][0]\n",
    "blocks_df['lsl_end_ts'] = blocks_df['lsl_end_ts']-init_time\n",
    "blocks_df['lsl_init_ts'] = blocks_df['lsl_init_ts']-init_time\n",
    "print(blocks_df)"
   ]
  },
  {
   "cell_type": "markdown",
   "id": "2a5210ce",
   "metadata": {},
   "source": [
    "### Math task"
   ]
  },
  {
   "cell_type": "code",
   "execution_count": 12,
   "id": "e9e4fc77",
   "metadata": {
    "scrolled": false
   },
   "outputs": [
    {
     "name": "stdout",
     "output_type": "stream",
     "text": [
      "     block_idx  task_idx  correct   lsl_end_ts  lsl_init_ts\n",
      "0          6.0       2.0      1.0   352.163282   344.075977\n",
      "1          6.0       3.0      1.0   360.712378   352.163533\n",
      "2          6.0       4.0      1.0   368.397000   360.712278\n",
      "3          6.0       5.0     -1.0   374.093139   368.398029\n",
      "4         10.0       9.0      0.0   464.951936   455.536926\n",
      "..         ...       ...      ...          ...          ...\n",
      "559       35.0     576.0      1.0  4579.451932  4574.175477\n",
      "560       35.0     577.0      1.0  4586.685811  4579.452102\n",
      "561       35.0     578.0      1.0  4594.122186  4586.685834\n",
      "562       35.0     579.0      1.0  4597.452530  4594.122211\n",
      "563       35.0     580.0     -1.0  4607.391377  4597.453224\n",
      "\n",
      "[564 rows x 5 columns]\n"
     ]
    }
   ],
   "source": [
    "math_tasks_df['lsl_end_ts'] = math_tasks_df['lsl_end_ts']-init_time\n",
    "math_tasks_df['lsl_init_ts'] = math_tasks_df['lsl_init_ts']-init_time\n",
    "print(math_tasks_df)"
   ]
  },
  {
   "cell_type": "code",
   "execution_count": 27,
   "id": "0a64eac1",
   "metadata": {
    "scrolled": true
   },
   "outputs": [
    {
     "data": {
      "text/plain": [
       "[<matplotlib.lines.Line2D at 0x1ce135fd3d0>]"
      ]
     },
     "execution_count": 27,
     "metadata": {},
     "output_type": "execute_result"
    }
   ],
   "source": [
    "end_ts_df = math_tasks_df['lsl_end_ts']\n",
    "init_ts_df = math_tasks_df['lsl_init_ts']\n",
    "\n",
    "# Reaction times:\n",
    "rt = end_ts_df - init_ts_df\n",
    "\n",
    "# Answers:\n",
    "answers = math_tasks_df['correct']"
   ]
  },
  {
   "cell_type": "code",
   "execution_count": 28,
   "id": "5db4c05a",
   "metadata": {},
   "outputs": [
    {
     "data": {
      "text/plain": [
       "<matplotlib.legend.Legend at 0x1ce08021460>"
      ]
     },
     "execution_count": 28,
     "metadata": {},
     "output_type": "execute_result"
    }
   ],
   "source": [
    "# Linear regression\n",
    "x_fit = []\n",
    "for i in range(len(rt)):\n",
    "    x_fit.append(i)\n",
    "\n",
    "slope, intercept = np.polyfit(x_fit, rt, deg=1) # régression linéaire pour trouver la pente\n",
    "# --> regarder si c'est significatif ou pas, pcq si c'est pas le cas, on peut dire que la différence n'est pas important\n",
    "# mais qu'on voit voit quand mm qu'à la fin ya des cas avec des grosses amplitudes\n",
    "x = range(len(rt))\n",
    "#x = np.linspace(0,len(rt),100)\n",
    "y = slope*x+intercept\n",
    "\n",
    "plt.figure()\n",
    "plt.xlabel(\"Tasks\")\n",
    "plt.ylabel(\"Reaction Time [s]\")\n",
    "plt.plot(x,rt)\n",
    "plt.scatter(x,answers,c='g',label=\"Answers: 1 = correct, 0 = false, -1 = no answer\")\n",
    "plt.plot(x,y,label='Slope = '+str(round(slope,4)))\n",
    "plt.legend(loc='upper right')\n"
   ]
  },
  {
   "cell_type": "markdown",
   "id": "30650e59",
   "metadata": {},
   "source": [
    "### Tone task"
   ]
  },
  {
   "cell_type": "code",
   "execution_count": 11,
   "id": "7ed18d98",
   "metadata": {},
   "outputs": [
    {
     "name": "stdout",
     "output_type": "stream",
     "text": [
      "      block_idx  task_idx   stimulus_ts  stimulus_id  space_ts  rt\n",
      "0           8.0       8.0  1.652772e+09          1.0       NaN NaN\n",
      "1           8.0       8.0  1.652772e+09          1.0       NaN NaN\n",
      "2           8.0       8.0  1.652772e+09          1.0       NaN NaN\n",
      "3           8.0       8.0  1.652772e+09          0.0       NaN NaN\n",
      "4           8.0       8.0  1.652772e+09          0.0       NaN NaN\n",
      "...         ...       ...           ...          ...       ...  ..\n",
      "2035       35.0     706.0  1.652776e+09          1.0       NaN NaN\n",
      "2036       35.0     706.0  1.652776e+09          1.0       NaN NaN\n",
      "2037       35.0     706.0  1.652776e+09          1.0       NaN NaN\n",
      "2038       35.0     706.0  1.652776e+09          0.0       NaN NaN\n",
      "2039       35.0     706.0  1.652776e+09          0.0       NaN NaN\n",
      "\n",
      "[2040 rows x 6 columns]\n"
     ]
    }
   ],
   "source": [
    "tone_tasks_df['stimulus_ts'] = tone_tasks_df['stimulus_ts']-init_time\n",
    "print(tone_tasks_df)\n",
    "\n",
    "#CHECKER ENCORE LE TEMPS DU TONE TASK"
   ]
  },
  {
   "cell_type": "markdown",
   "id": "3993e1c1",
   "metadata": {},
   "source": [
    "### Keyboard"
   ]
  },
  {
   "cell_type": "code",
   "execution_count": 12,
   "id": "2411d2e9",
   "metadata": {},
   "outputs": [
    {
     "name": "stdout",
     "output_type": "stream",
     "text": [
      "            events  reaction_ts\n",
      "32   SPACE pressed   486.846550\n",
      "34   SPACE pressed   488.621260\n",
      "36   SPACE pressed   504.760111\n",
      "38   SPACE pressed   524.362161\n",
      "40   SPACE pressed   529.739064\n",
      "..             ...          ...\n",
      "768  SPACE pressed  4647.891359\n",
      "770  SPACE pressed  4651.444462\n",
      "772  SPACE pressed  4679.967525\n",
      "774  SPACE pressed  4681.679230\n",
      "776  SPACE pressed  4688.620574\n",
      "\n",
      "[373 rows x 2 columns]\n"
     ]
    }
   ],
   "source": [
    "keyboard_df['reaction_ts'] = keyboard_df['reaction_ts']-init_time\n",
    "print(keyboard_df)"
   ]
  },
  {
   "cell_type": "markdown",
   "id": "9ed94e8c",
   "metadata": {},
   "source": [
    "### Questionnaire"
   ]
  },
  {
   "cell_type": "code",
   "execution_count": 13,
   "id": "1e1ff450",
   "metadata": {
    "scrolled": true
   },
   "outputs": [
    {
     "data": {
      "text/html": [
       "<div>\n",
       "<style scoped>\n",
       "    .dataframe tbody tr th:only-of-type {\n",
       "        vertical-align: middle;\n",
       "    }\n",
       "\n",
       "    .dataframe tbody tr th {\n",
       "        vertical-align: top;\n",
       "    }\n",
       "\n",
       "    .dataframe thead th {\n",
       "        text-align: right;\n",
       "    }\n",
       "</style>\n",
       "<table border=\"1\" class=\"dataframe\">\n",
       "  <thead>\n",
       "    <tr style=\"text-align: right;\">\n",
       "      <th></th>\n",
       "      <th>question_1</th>\n",
       "      <th>question_2</th>\n",
       "      <th>question_3</th>\n",
       "      <th>question_4</th>\n",
       "      <th>question_5</th>\n",
       "      <th>question_6</th>\n",
       "      <th>question_7</th>\n",
       "      <th>question_113</th>\n",
       "      <th>question_214</th>\n",
       "      <th>question_315</th>\n",
       "      <th>question_416</th>\n",
       "      <th>question_517</th>\n",
       "      <th>question_518</th>\n",
       "      <th>question_519</th>\n",
       "    </tr>\n",
       "  </thead>\n",
       "  <tbody>\n",
       "    <tr>\n",
       "      <th>0</th>\n",
       "      <td>1.0</td>\n",
       "      <td>1.0</td>\n",
       "      <td>1.0</td>\n",
       "      <td>0.0</td>\n",
       "      <td>1.0</td>\n",
       "      <td>2.0</td>\n",
       "      <td>1.0</td>\n",
       "      <td>3.0</td>\n",
       "      <td>6.0</td>\n",
       "      <td>0.0</td>\n",
       "      <td>2.0</td>\n",
       "      <td>0.0</td>\n",
       "      <td>3.0</td>\n",
       "      <td>0.0</td>\n",
       "    </tr>\n",
       "    <tr>\n",
       "      <th>1</th>\n",
       "      <td>1.0</td>\n",
       "      <td>2.0</td>\n",
       "      <td>0.0</td>\n",
       "      <td>0.0</td>\n",
       "      <td>1.0</td>\n",
       "      <td>0.0</td>\n",
       "      <td>3.0</td>\n",
       "      <td>3.0</td>\n",
       "      <td>4.0</td>\n",
       "      <td>0.0</td>\n",
       "      <td>0.0</td>\n",
       "      <td>1.0</td>\n",
       "      <td>0.0</td>\n",
       "      <td>1.0</td>\n",
       "    </tr>\n",
       "    <tr>\n",
       "      <th>2</th>\n",
       "      <td>1.0</td>\n",
       "      <td>2.0</td>\n",
       "      <td>3.0</td>\n",
       "      <td>0.0</td>\n",
       "      <td>1.0</td>\n",
       "      <td>0.0</td>\n",
       "      <td>2.0</td>\n",
       "      <td>2.0</td>\n",
       "      <td>2.0</td>\n",
       "      <td>0.0</td>\n",
       "      <td>4.0</td>\n",
       "      <td>1.0</td>\n",
       "      <td>1.0</td>\n",
       "      <td>1.0</td>\n",
       "    </tr>\n",
       "    <tr>\n",
       "      <th>3</th>\n",
       "      <td>2.0</td>\n",
       "      <td>4.0</td>\n",
       "      <td>4.0</td>\n",
       "      <td>0.0</td>\n",
       "      <td>1.0</td>\n",
       "      <td>0.0</td>\n",
       "      <td>1.0</td>\n",
       "      <td>1.0</td>\n",
       "      <td>1.0</td>\n",
       "      <td>0.0</td>\n",
       "      <td>5.0</td>\n",
       "      <td>2.0</td>\n",
       "      <td>3.0</td>\n",
       "      <td>2.0</td>\n",
       "    </tr>\n",
       "  </tbody>\n",
       "</table>\n",
       "</div>"
      ],
      "text/plain": [
       "   question_1  question_2  question_3  question_4  question_5  question_6  \\\n",
       "0         1.0         1.0         1.0         0.0         1.0         2.0   \n",
       "1         1.0         2.0         0.0         0.0         1.0         0.0   \n",
       "2         1.0         2.0         3.0         0.0         1.0         0.0   \n",
       "3         2.0         4.0         4.0         0.0         1.0         0.0   \n",
       "\n",
       "   question_7  question_113  question_214  question_315  question_416  \\\n",
       "0         1.0           3.0           6.0           0.0           2.0   \n",
       "1         3.0           3.0           4.0           0.0           0.0   \n",
       "2         2.0           2.0           2.0           0.0           4.0   \n",
       "3         1.0           1.0           1.0           0.0           5.0   \n",
       "\n",
       "   question_517  question_518  question_519  \n",
       "0           0.0           3.0           0.0  \n",
       "1           1.0           0.0           1.0  \n",
       "2           1.0           1.0           1.0  \n",
       "3           2.0           3.0           2.0  "
      ]
     },
     "execution_count": 13,
     "metadata": {},
     "output_type": "execute_result"
    }
   ],
   "source": [
    "quest_df"
   ]
  },
  {
   "cell_type": "markdown",
   "id": "feb0bd3a",
   "metadata": {},
   "source": [
    "## Plots"
   ]
  },
  {
   "cell_type": "markdown",
   "id": "bef64659",
   "metadata": {},
   "source": [
    "### Math task"
   ]
  },
  {
   "cell_type": "code",
   "execution_count": null,
   "id": "7841f6ee",
   "metadata": {},
   "outputs": [],
   "source": []
  },
  {
   "cell_type": "markdown",
   "id": "4aeec0b6",
   "metadata": {},
   "source": [
    "### Tone Task"
   ]
  },
  {
   "cell_type": "code",
   "execution_count": null,
   "id": "ed94b584",
   "metadata": {},
   "outputs": [],
   "source": []
  }
 ],
 "metadata": {
  "kernelspec": {
   "display_name": "Python 3 (ipykernel)",
   "language": "python",
   "name": "python3"
  },
  "language_info": {
   "codemirror_mode": {
    "name": "ipython",
    "version": 3
   },
   "file_extension": ".py",
   "mimetype": "text/x-python",
   "name": "python",
   "nbconvert_exporter": "python",
   "pygments_lexer": "ipython3",
   "version": "3.9.7"
  }
 },
 "nbformat": 4,
 "nbformat_minor": 5
}
