{
 "cells": [
  {
   "cell_type": "code",
   "execution_count": 6,
   "id": "feeed214",
   "metadata": {},
   "outputs": [],
   "source": [
    "import pandas as pd\n",
    "import matplotlib.pyplot as plt\n"
   ]
  },
  {
   "cell_type": "code",
   "execution_count": 16,
   "id": "951f6065",
   "metadata": {},
   "outputs": [
    {
     "name": "stdout",
     "output_type": "stream",
     "text": [
      "0\n",
      "           TS[raw]    TimeStamp   EEG   EEG[-]\n",
      "0       2745682349     0.000000     0        0\n",
      "1       2745682477     0.003906    -1       -1\n",
      "2       2745682605     0.007812    -1       -1\n",
      "3       2745682733     0.011719    -2       -2\n",
      "4       2745682861     0.015625    -3       -3\n",
      "...            ...          ...   ...      ...\n",
      "256603  2778527533  1002.355469 -5806    -5806\n",
      "256604  2778527661  1002.359375 -5829    -5829\n",
      "256605  2778527789  1002.363281 -5848    -5848\n",
      "256606  2778527917  1002.367188 -5829    -5829\n",
      "256607  2778528045  1002.371094 -5761    -5761\n",
      "\n",
      "[256608 rows x 4 columns]\n",
      "1\n",
      "           TS[raw]    TimeStamp   EEG   EEG[-]\n",
      "0       2778528173     0.000000 -5744    -5744\n",
      "1       2778528301     0.003906 -5762    -5762\n",
      "2       2778528429     0.007812 -5731    -5731\n",
      "3       2778528557     0.011719 -5626    -5626\n",
      "4       2778528685     0.015625 -5642    -5642\n",
      "...            ...          ...   ...      ...\n",
      "256507  2811361069  1001.980469 -3067    -3067\n",
      "256508  2811361197  1001.984375 -3017    -3017\n",
      "256509  2811361325  1001.988281 -3080    -3080\n",
      "256510  2811361453  1001.992188 -3112    -3112\n",
      "256511  2811361581  1001.996094 -3054    -3054\n",
      "\n",
      "[256512 rows x 4 columns]\n",
      "2\n",
      "           TS[raw]    TimeStamp   EEG   EEG[-]\n",
      "0       2811361709     0.000000 -3080    -3080\n",
      "1       2811361837     0.003906 -3126    -3126\n",
      "2       2811361965     0.007812 -3154    -3154\n",
      "3       2811362093     0.011719 -3141    -3141\n",
      "4       2811362221     0.015625 -3171    -3171\n",
      "...            ...          ...   ...      ...\n",
      "256507  2844194605  1001.980469 -1704    -1704\n",
      "256508  2844194733  1001.984375 -1642    -1642\n",
      "256509  2844194861  1001.988281 -1636    -1636\n",
      "256510  2844194989  1001.992188 -1690    -1690\n",
      "256511  2844195117  1001.996094 -1699    -1699\n",
      "\n",
      "[256512 rows x 4 columns]\n",
      "3\n",
      "           TS[raw]    TimeStamp   EEG   EEG[-]\n",
      "0       2844195247     0.000000 -1719    -1719\n",
      "1       2844195375     0.003906 -1709    -1709\n",
      "2       2844195503     0.007812 -1534    -1534\n",
      "3       2844195631     0.011719 -1471    -1471\n",
      "4       2844195759     0.015625 -1724    -1724\n",
      "...            ...          ...   ...      ...\n",
      "256507  2877028141  1001.980408 -2992    -2992\n",
      "256508  2877028269  1001.984314 -2816    -2816\n",
      "256509  2877028397  1001.988220 -2800    -2800\n",
      "256510  2877028525  1001.992126 -2833    -2833\n",
      "256511  2877028653  1001.996033 -2726    -2726\n",
      "\n",
      "[256512 rows x 4 columns]\n",
      "4\n",
      "           TS[raw]    TimeStamp   EEG   EEG[-]\n",
      "0       2877028781     0.000000 -2797    -2797\n",
      "1       2877028909     0.003906 -2933    -2933\n",
      "2       2877029037     0.007812 -2802    -2802\n",
      "3       2877029165     0.011719 -2686    -2686\n",
      "4       2877029293     0.015625 -2684    -2684\n",
      "...            ...          ...   ...      ...\n",
      "256507  2909861677  1001.980469 -3322    -3322\n",
      "256508  2909861805  1001.984375 -3441    -3441\n",
      "256509  2909861933  1001.988281 -3362    -3362\n",
      "256510  2909862061  1001.992188 -3203    -3203\n",
      "256511  2909862189  1001.996094 -3194    -3194\n",
      "\n",
      "[256512 rows x 4 columns]\n",
      "5\n",
      "          TS[raw]   TimeStamp   EEG   EEG[-]\n",
      "0      2909862317    0.000000 -3199    -3199\n",
      "1      2909862445    0.003906 -3166    -3166\n",
      "2      2909862573    0.007812 -3185    -3185\n",
      "3      2909862701    0.011719 -3258    -3258\n",
      "4      2909862829    0.015625 -3452    -3452\n",
      "...           ...         ...   ...      ...\n",
      "36539  2914539309  142.730469 -3972    -3972\n",
      "36540  2914539437  142.734375 -3892    -3892\n",
      "36541  2914539565  142.738281 -3516    -3516\n",
      "36542  2914539693  142.742188 -3505    -3505\n",
      "36543  2914539821  142.746094 -3793    -3793\n",
      "\n",
      "[36544 rows x 4 columns]\n",
      "          TS[raw]   TimeStamp   EEG   EEG[-]\n",
      "0      2909862317    0.000000 -3199    -3199\n",
      "1      2909862445    0.003906 -3166    -3166\n",
      "2      2909862573    0.007812 -3185    -3185\n",
      "3      2909862701    0.011719 -3258    -3258\n",
      "4      2909862829    0.015625 -3452    -3452\n",
      "...           ...         ...   ...      ...\n",
      "36539  2914539309  142.730469 -3972    -3972\n",
      "36540  2914539437  142.734375 -3892    -3892\n",
      "36541  2914539565  142.738281 -3516    -3516\n",
      "36542  2914539693  142.742188 -3505    -3505\n",
      "36543  2914539821  142.746094 -3793    -3793\n",
      "\n",
      "[36544 rows x 4 columns]\n"
     ]
    }
   ],
   "source": [
    "participant = 'S6_2022-05-20'\n",
    "for i in range(6):\n",
    "    print(i)\n",
    "    ulteem_df = pd.read_csv('C:/Users/bribeiroriccioppo/Desktop/ULTEEM/'+participant+'/F3295C6CC0EB_Session_'+str(i)+'_2022_SingleFiles/F3295C6CC0EB_Session_'+str(i)+'_2022_EEG_Data.csv')\n",
    "    print(ulteem_df)\n",
    "    "
   ]
  },
  {
   "cell_type": "code",
   "execution_count": 3,
   "id": "b80ca7fe",
   "metadata": {},
   "outputs": [],
   "source": [
    "# EEG signal amplitude (in LSBs) and timestamps are found in the CSV file.\n",
    "# EEG signal amplitudes can be converted to microvolts by multiplying them by 106 / (160 x 2^17).\n",
    "ulteem_df.iloc[:,2] = ulteem_df.iloc[:,2]*(106 / (160 * 2^17))\n",
    "ulteem_df.iloc[:,3] = ulteem_df.iloc[:,3]*(106 / (160 * 2^17))"
   ]
  },
  {
   "cell_type": "code",
   "execution_count": 4,
   "id": "9f463b9d",
   "metadata": {},
   "outputs": [
    {
     "name": "stdout",
     "output_type": "stream",
     "text": [
      "           TS[raw]    TimeStamp          EEG       EEG[-]\n",
      "0       2745682349     0.000000     0.000000     0.000000\n",
      "1       2745682477     0.003906    -0.314540    -0.314540\n",
      "2       2745682605     0.007812    -0.314540    -0.314540\n",
      "3       2745682733     0.011719    -0.629080    -0.629080\n",
      "4       2745682861     0.015625    -0.943620    -0.943620\n",
      "...            ...          ...          ...          ...\n",
      "256603  2778527533  1002.355469 -1826.219585 -1826.219585\n",
      "256604  2778527661  1002.359375 -1833.454006 -1833.454006\n",
      "256605  2778527789  1002.363281 -1839.430267 -1839.430267\n",
      "256606  2778527917  1002.367188 -1833.454006 -1833.454006\n",
      "256607  2778528045  1002.371094 -1812.065282 -1812.065282\n",
      "\n",
      "[256608 rows x 4 columns]\n"
     ]
    }
   ],
   "source": [
    "print(ulteem_df)"
   ]
  },
  {
   "cell_type": "code",
   "execution_count": 8,
   "id": "a15701e4",
   "metadata": {},
   "outputs": [
    {
     "data": {
      "text/plain": [
       "[<matplotlib.lines.Line2D at 0x211dd0a9730>]"
      ]
     },
     "execution_count": 8,
     "metadata": {},
     "output_type": "execute_result"
    },
    {
     "data": {
      "image/png": "[encoded data removed]",
      "text/plain": [
       "<Figure size 432x288 with 1 Axes>"
      ]
     },
     "metadata": {
      "needs_background": "light"
     },
     "output_type": "display_data"
    }
   ],
   "source": [
    "x = ulteem_df.iloc[:,1]\n",
    "y = ulteem_df.iloc[:,2]\n",
    "plt.plot(x,y)"
   ]
  },
  {
   "cell_type": "code",
   "execution_count": null,
   "id": "bae2a7b8",
   "metadata": {},
   "outputs": [],
   "source": []
  },
  {
   "cell_type": "code",
   "execution_count": null,
   "id": "88c61150",
   "metadata": {},
   "outputs": [],
   "source": []
  }
 ],
 "metadata": {
  "kernelspec": {
   "display_name": "Python 3 (ipykernel)",
   "language": "python",
   "name": "python3"
  },
  "language_info": {
   "codemirror_mode": {
    "name": "ipython",
    "version": 3
   },
   "file_extension": ".py",
   "mimetype": "text/x-python",
   "name": "python",
   "nbconvert_exporter": "python",
   "pygments_lexer": "ipython3",
   "version": "3.9.7"
  }
 },
 "nbformat": 4,
 "nbformat_minor": 5
}
