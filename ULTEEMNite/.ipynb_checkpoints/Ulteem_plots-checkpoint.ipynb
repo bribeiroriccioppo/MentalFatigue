{
 "cells": [
  {
   "cell_type": "code",
   "execution_count": 20,
   "id": "002427da",
   "metadata": {},
   "outputs": [],
   "source": [
    "import pandas as pd\n",
    "import glob\n",
    "import matplotlib.pyplot as plt\n",
    "from mne.time_frequency import tfr_morlet, psd_multitaper, psd_welch\n",
    "import mne\n",
    "import numpy as np\n",
    "import seaborn as sns"
   ]
  },
  {
   "cell_type": "code",
   "execution_count": 2,
   "id": "bd4fcd6c",
   "metadata": {
    "scrolled": false
   },
   "outputs": [
    {
     "name": "stdout",
     "output_type": "stream",
     "text": [
      "Participant: S6\n",
      "C:/Users/bribeiroriccioppo/Desktop/ULTEEM/S6\\F3295C6CC0EB_Session_0_2022_EEG_Data.csv\n",
      "Append ok\n",
      "C:/Users/bribeiroriccioppo/Desktop/ULTEEM/S6\\F3295C6CC0EB_Session_1_2022_EEG_Data.csv\n",
      "Append ok\n",
      "C:/Users/bribeiroriccioppo/Desktop/ULTEEM/S6\\F3295C6CC0EB_Session_2_2022_EEG_Data.csv\n",
      "Append ok\n",
      "C:/Users/bribeiroriccioppo/Desktop/ULTEEM/S6\\F3295C6CC0EB_Session_3_2022_EEG_Data.csv\n",
      "Append ok\n",
      "C:/Users/bribeiroriccioppo/Desktop/ULTEEM/S6\\F3295C6CC0EB_Session_4_2022_EEG_Data.csv\n",
      "Append ok\n",
      "C:/Users/bribeiroriccioppo/Desktop/ULTEEM/S6\\F3295C6CC0EB_Session_5_2022_EEG_Data.csv\n",
      "Append ok\n"
     ]
    }
   ],
   "source": [
    "participants_list = ['S6', 'S7', 'S8', 'S9', 'S10', 'S11', 'S12', 'S13', 'S14', 'S15', 'S16', 'S17']\n",
    "EEG_power = []\n",
    "timestamp = []\n",
    "\n",
    "\n",
    "participant = participants_list[0]\n",
    "path = 'C:/Users/bribeiroriccioppo/Desktop/ULTEEM/'+participant\n",
    "all_files = glob.glob(path + \"/*.csv\")\n",
    "ulteem_df = []\n",
    "\n",
    "print(\"Participant: \"+participant)\n",
    "for filename in all_files:\n",
    "    print(filename)\n",
    "    ulteem_df_file = pd.read_csv(filename, index_col=None, header=0)\n",
    "    ulteem_df.append(ulteem_df_file)\n",
    "    print(\"Append ok\")\n",
    "    \n",
    "    \n",
    "ulteem_df_participant = pd.concat(ulteem_df, axis=0, ignore_index=True)    \n",
    "# for i in range(6):    \n",
    "    \n",
    "#     #ulteem_df = pd.read_csv('C:/Users/bribeiroriccioppo/Desktop/ULTEEM/'+participant+'/F3295C6CC0EB_Session_'+str(i)+'_2022_SingleFiles/F3295C6CC0EB_Session_'+str(i)+'_2022_EEG_Data.csv')\n",
    "#     ulteem_df = pd.read_csv('C:/Users/bribeiroriccioppo/Desktop/ULTEEM/'+participant+'/F3295C6CC0EB_Session_'+str(i)+'_2022_EEG_Data.csv')\n",
    "#     ulteem_df[' EEG'] = ulteem_df[' EEG']*(106 / (160 * 2^17)) # converting to mV\n",
    "#     ulteem_df[' EEG[-]'] = ulteem_df[' EEG[-]']*(106 / (160 * 2^17)) # converting to mV\n",
    "#     # Notch filters (sub-harmonic and power line)\n",
    "#     mne.filter.notch_filter(ulteem_df[' EEG'],256,[25,50])\n",
    "#     # High-pass filter\n",
    "#     #mne.filter(ulteem_df[' EEG'],2, method='iir') # FORMULATION FAUSSE\n",
    "    \n",
    "#     # Plot of filtered signal\n",
    "#     plt.plot(ulteem_df['TS[raw]'],ulteem_df[' EEG'],c='b')\n",
    "    "
   ]
  },
  {
   "cell_type": "code",
   "execution_count": 3,
   "id": "38608323",
   "metadata": {},
   "outputs": [
    {
     "name": "stdout",
     "output_type": "stream",
     "text": [
      "Setting up band-stop filter\n",
      "\n",
      "FIR filter parameters\n",
      "---------------------\n",
      "Designing a one-pass, zero-phase, non-causal bandstop filter:\n",
      "- Windowed time-domain design (firwin) method\n",
      "- Hamming window with 0.0194 passband ripple and 53 dB stopband attenuation\n",
      "- Lower transition bandwidth: 0.50 Hz\n",
      "- Upper transition bandwidth: 0.50 Hz\n",
      "- Filter length: 1691 samples (6.605 sec)\n",
      "\n",
      "Setting up high-pass filter at 2 Hz\n",
      "\n",
      "IIR filter parameters\n",
      "---------------------\n",
      "Butterworth highpass zero-phase (two-pass forward and reverse) non-causal filter:\n",
      "- Filter order 8 (effective, after forward-backward)\n",
      "- Cutoff at 2.00 Hz: -6.02 dB\n",
      "\n"
     ]
    },
    {
     "data": {
      "text/plain": [
       "array([-3.31573690e+01, -8.85456789e+02, -1.73772822e+03, ...,\n",
       "       -8.72330196e+01, -9.02462261e+01,  7.87660046e-01])"
      ]
     },
     "execution_count": 3,
     "metadata": {},
     "output_type": "execute_result"
    }
   ],
   "source": [
    "# Converting to mV\n",
    "ulteem_df_participant[' EEG'] = ulteem_df_participant[' EEG']*-(106 / (160 * 2^17)) \n",
    "ulteem_df_participant[' EEG[-]'] = ulteem_df_participant[' EEG[-]']*-(106 / (160 * 2^17))\n",
    "\n",
    "# Notch filters (sub-harmonic and power line)\n",
    "mne.filter.notch_filter(ulteem_df_participant[' EEG'],256,[25,50])\n",
    "\n",
    "# High-pass filter\n",
    "mne.filter.filter_data(ulteem_df_participant[' EEG'],256,2,None,method='iir') # FORMULATION FAUSSE"
   ]
  },
  {
   "cell_type": "code",
   "execution_count": 4,
   "id": "2b3f3fe1",
   "metadata": {},
   "outputs": [
    {
     "data": {
      "text/html": [
       "<div>\n",
       "<style scoped>\n",
       "    .dataframe tbody tr th:only-of-type {\n",
       "        vertical-align: middle;\n",
       "    }\n",
       "\n",
       "    .dataframe tbody tr th {\n",
       "        vertical-align: top;\n",
       "    }\n",
       "\n",
       "    .dataframe thead th {\n",
       "        text-align: right;\n",
       "    }\n",
       "</style>\n",
       "<table border=\"1\" class=\"dataframe\">\n",
       "  <thead>\n",
       "    <tr style=\"text-align: right;\">\n",
       "      <th></th>\n",
       "      <th>TS[raw]</th>\n",
       "      <th>TimeStamp</th>\n",
       "      <th>EEG</th>\n",
       "      <th>EEG[-]</th>\n",
       "    </tr>\n",
       "  </thead>\n",
       "  <tbody>\n",
       "    <tr>\n",
       "      <th>0</th>\n",
       "      <td>2745682349</td>\n",
       "      <td>0.000000</td>\n",
       "      <td>-0.000000</td>\n",
       "      <td>-0.000000</td>\n",
       "    </tr>\n",
       "    <tr>\n",
       "      <th>1</th>\n",
       "      <td>2745682477</td>\n",
       "      <td>0.003906</td>\n",
       "      <td>0.314540</td>\n",
       "      <td>0.314540</td>\n",
       "    </tr>\n",
       "    <tr>\n",
       "      <th>2</th>\n",
       "      <td>2745682605</td>\n",
       "      <td>0.007812</td>\n",
       "      <td>0.314540</td>\n",
       "      <td>0.314540</td>\n",
       "    </tr>\n",
       "    <tr>\n",
       "      <th>3</th>\n",
       "      <td>2745682733</td>\n",
       "      <td>0.011719</td>\n",
       "      <td>0.629080</td>\n",
       "      <td>0.629080</td>\n",
       "    </tr>\n",
       "    <tr>\n",
       "      <th>4</th>\n",
       "      <td>2745682861</td>\n",
       "      <td>0.015625</td>\n",
       "      <td>0.943620</td>\n",
       "      <td>0.943620</td>\n",
       "    </tr>\n",
       "    <tr>\n",
       "      <th>...</th>\n",
       "      <td>...</td>\n",
       "      <td>...</td>\n",
       "      <td>...</td>\n",
       "      <td>...</td>\n",
       "    </tr>\n",
       "    <tr>\n",
       "      <th>1319195</th>\n",
       "      <td>2914539309</td>\n",
       "      <td>142.730469</td>\n",
       "      <td>1249.353116</td>\n",
       "      <td>1249.353116</td>\n",
       "    </tr>\n",
       "    <tr>\n",
       "      <th>1319196</th>\n",
       "      <td>2914539437</td>\n",
       "      <td>142.734375</td>\n",
       "      <td>1224.189911</td>\n",
       "      <td>1224.189911</td>\n",
       "    </tr>\n",
       "    <tr>\n",
       "      <th>1319197</th>\n",
       "      <td>2914539565</td>\n",
       "      <td>142.738281</td>\n",
       "      <td>1105.922849</td>\n",
       "      <td>1105.922849</td>\n",
       "    </tr>\n",
       "    <tr>\n",
       "      <th>1319198</th>\n",
       "      <td>2914539693</td>\n",
       "      <td>142.742188</td>\n",
       "      <td>1102.462908</td>\n",
       "      <td>1102.462908</td>\n",
       "    </tr>\n",
       "    <tr>\n",
       "      <th>1319199</th>\n",
       "      <td>2914539821</td>\n",
       "      <td>142.746094</td>\n",
       "      <td>1193.050445</td>\n",
       "      <td>1193.050445</td>\n",
       "    </tr>\n",
       "  </tbody>\n",
       "</table>\n",
       "<p>1319200 rows × 4 columns</p>\n",
       "</div>"
      ],
      "text/plain": [
       "            TS[raw]   TimeStamp          EEG       EEG[-]\n",
       "0        2745682349    0.000000    -0.000000    -0.000000\n",
       "1        2745682477    0.003906     0.314540     0.314540\n",
       "2        2745682605    0.007812     0.314540     0.314540\n",
       "3        2745682733    0.011719     0.629080     0.629080\n",
       "4        2745682861    0.015625     0.943620     0.943620\n",
       "...             ...         ...          ...          ...\n",
       "1319195  2914539309  142.730469  1249.353116  1249.353116\n",
       "1319196  2914539437  142.734375  1224.189911  1224.189911\n",
       "1319197  2914539565  142.738281  1105.922849  1105.922849\n",
       "1319198  2914539693  142.742188  1102.462908  1102.462908\n",
       "1319199  2914539821  142.746094  1193.050445  1193.050445\n",
       "\n",
       "[1319200 rows x 4 columns]"
      ]
     },
     "execution_count": 4,
     "metadata": {},
     "output_type": "execute_result"
    }
   ],
   "source": [
    "ulteem_df_participant"
   ]
  },
  {
   "cell_type": "code",
   "execution_count": 11,
   "id": "6269a866",
   "metadata": {},
   "outputs": [
    {
     "data": {
      "text/plain": [
       "[<matplotlib.lines.Line2D at 0x1dc5d2073a0>]"
      ]
     },
     "execution_count": 11,
     "metadata": {},
     "output_type": "execute_result"
    },
    {
     "data": {
      "image/png": "[encoded data removed]",
      "text/plain": [
       "<Figure size 1440x720 with 1 Axes>"
      ]
     },
     "metadata": {
      "needs_background": "light"
     },
     "output_type": "display_data"
    }
   ],
   "source": [
    "# Plot of filtered signal\n",
    "\n",
    "plt.figure(figsize=(20, 10))\n",
    "plt.plot(ulteem_df_participant[' TimeStamp'],ulteem_df_participant[' EEG'],c='b')\n",
    "#plt.plot(ulteem_df_participant[' TimeStamp'].iloc[600:800],ulteem_df_participant[' EEG'].iloc[600:800],c='b')"
   ]
  },
  {
   "cell_type": "code",
   "execution_count": 21,
   "id": "bcc027e9",
   "metadata": {},
   "outputs": [],
   "source": [
    "raw = ulteem_df_participant[' EEG']"
   ]
  },
  {
   "cell_type": "code",
   "execution_count": 22,
   "id": "879fca9a",
   "metadata": {},
   "outputs": [],
   "source": [
    "freq_bands = [('Delta', 1, 3),\n",
    "              ('Theta', 4, 7),\n",
    "              ('Alpha1', 8, 10),\n",
    "              ('Alpha2', 11, 13),\n",
    "              ('Beta', 14, 30),\n",
    "              ('Gamma', 31, 45)]"
   ]
  },
  {
   "cell_type": "code",
   "execution_count": 25,
   "id": "87928ea3",
   "metadata": {},
   "outputs": [
    {
     "data": {
      "image/png": "[encoded data removed]",
      "text/plain": [
       "<Figure size 576x288 with 1 Axes>"
      ]
     },
     "metadata": {},
     "output_type": "display_data"
    }
   ],
   "source": [
    "# From https://raphaelvallat.com/bandpower.html\n",
    "\n",
    "from scipy import signal\n",
    "# Define sampling frequency and time vector\n",
    "sf = 100.\n",
    "time = np.arange(raw.size) / sf\n",
    "\n",
    "# Define window length (4 seconds)\n",
    "win = 4 * sf\n",
    "freqs, psd = signal.welch(raw, sf, nperseg=win)\n",
    "\n",
    "# Plot the power spectrum\n",
    "sns.set(font_scale=1.2, style='white')\n",
    "plt.figure(figsize=(8, 4))\n",
    "plt.plot(freqs, psd, color='k', lw=2)\n",
    "plt.xlabel('Frequency (Hz)')\n",
    "plt.ylabel('Power spectral density (V^2 / Hz)')\n",
    "plt.ylim([0, psd.max() * 1.1])\n",
    "plt.title(\"Welch's periodogram\")\n",
    "plt.xlim([0, freqs.max()])\n",
    "sns.despine()"
   ]
  },
  {
   "cell_type": "code",
   "execution_count": null,
   "id": "c59f9ad1",
   "metadata": {},
   "outputs": [],
   "source": []
  },
  {
   "cell_type": "code",
   "execution_count": null,
   "id": "9d0844f7",
   "metadata": {},
   "outputs": [],
   "source": []
  }
 ],
 "metadata": {
  "kernelspec": {
   "display_name": "Python 3 (ipykernel)",
   "language": "python",
   "name": "python3"
  },
  "language_info": {
   "codemirror_mode": {
    "name": "ipython",
    "version": 3
   },
   "file_extension": ".py",
   "mimetype": "text/x-python",
   "name": "python",
   "nbconvert_exporter": "python",
   "pygments_lexer": "ipython3",
   "version": "3.9.7"
  }
 },
 "nbformat": 4,
 "nbformat_minor": 5
}
